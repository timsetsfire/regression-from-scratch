{
 "cells": [
  {
   "cell_type": "markdown",
   "metadata": {},
   "source": [
    "## Goals\n",
    "\n",
    "Prepare for Neural Nets from scratch by estimating a generalized linear model via gradient descent (from scracth). \n",
    "\n",
    "We'll (briefly) cover \n",
    "* Working with matrices and n dimensional arrays in numpy.\n",
    "* Solving the least squares problem directly (via normal equations) and indirectly (via gradient descent)\n",
    "* Estiamting logistic regression via statsmodels\n",
    "* Estimating logistic regression via gradient descent\n",
    "* Estimating logistic regression via stochastic gradient descent (time permitting)\n",
    "* We'll wrap by estimating the logistic regression via Statsmodels, Scikit Learn, and TensorFlow!"
   ]
  },
  {
   "cell_type": "markdown",
   "metadata": {},
   "source": [
    "## Prerequisites\n",
    "\n",
    "Knowledge of the following is ideal.\n",
    "\n",
    "* Matrix algebra\n",
    "* Multivariate calculus\n",
    "\n",
    "But you could get through this notebook with minimum matrix algebra alone.  In fact, as long as you understand how a matrix is used to store data, and you know how to do arithmetic on matrices (add, multiplication, and scalar multiplication) you will be find.  "
   ]
  },
  {
   "cell_type": "markdown",
   "metadata": {},
   "source": [
    "## Working with matrices in numpy\n",
    "\n",
    "The classes that represent matrices, and basic operations such as matrix multiplications and transpose are a part of numpy. \n",
    "\n",
    "`numpy.matrix` is matrix class that has a more convenient interface than `numpy.ndarray` for matrix operations. This class has matrix multiplication as default for the * operator, and contains `I` and `T` members that serve as shortcuts for inverse and transpose.  \n",
    "\n",
    "Despite its convenience, the use of the `numpy.matrix` class is discouraged, since it adds nothing that cannot be accomplished with 2D `numpy.ndarray` objects, and may lead to a confusion of which class is being used.  With that being said, we will use the `numpy.matrix` class for this notebook.  Feel free to convert this notebook to ndarrays.  "
   ]
  },
  {
   "cell_type": "markdown",
   "metadata": {},
   "source": [
    "## scipy.linalg vs numpy.linalg\n",
    "\n",
    "`scipy.linalg` contains all the functions in `numpy.linalg`. plus some other more advanced ones not contained in `numpy.linalg`\n",
    "\n",
    "Another advantage of using `scipy.linalg` over `numpy.linalg` is that it is always compiled with BLAS/LAPACK support, while for numpy this is optional. Therefore, the scipy version might be faster depending on how numpy was installed.\n",
    "\n",
    "Therefore, unless you don’t want to add scipy as a dependency to your `numpy` program, use `scipy.linalg` instead of `numpy.linalg`.  That being said, we will use `numpy.linalg` for this notebook"
   ]
  },
  {
   "cell_type": "markdown",
   "metadata": {},
   "source": [
    "## Matrix Operations\n",
    "\n",
    "Below we'll demonstrate how to do some important operations necessary for regression from scracth, and we'll only highlight operations on matrices vs ndarrays when worth noting."
   ]
  },
  {
   "cell_type": "markdown",
   "metadata": {},
   "source": [
    "## Creating a matrix"
   ]
  },
  {
   "cell_type": "code",
   "execution_count": 43,
   "metadata": {},
   "outputs": [
    {
     "name": "stdout",
     "output_type": "stream",
     "text": [
      "<class 'numpy.matrixlib.defmatrix.matrix'>\n",
      "[[2 7 6]\n",
      " [9 5 1]\n",
      " [4 3 8]]\n",
      "\n",
      "<class 'numpy.ndarray'>\n",
      "[[2 7 6]\n",
      " [9 5 1]\n",
      " [4 3 8]]\n"
     ]
    }
   ],
   "source": [
    "import numpy as np\n",
    "import pandas as pd\n",
    "from pandas import DataFrame, Series\n",
    "from scipy.linalg import expm\n",
    "from pandasql import sqldf\n",
    "import matplotlib.pyplot as plt\n",
    "\n",
    "pysqldf = lambda q: sqldf(q, globals())\n",
    "\n",
    "import seaborn as sns\n",
    "%matplotlib inline\n",
    "x = np.matrix([[2,7,6],[9,5,1],[4,3,8]])\n",
    "print(type(x))\n",
    "print(x)\n",
    "# or\n",
    "x_ndarray = np.array([[2,7,6],[9,5,1],[4,3,8]])\n",
    "print(\"\\n{}\".format(type(x_ndarray)))\n",
    "print(x_ndarray)"
   ]
  },
  {
   "cell_type": "markdown",
   "metadata": {},
   "source": [
    "The magice square above (call it $X$) is composed of 3 rows and 3 columns.  We will index elements by the row and column in which they appear.  For example, the element $X_{1,2}$ is 7 and $X_{3,3} = 8$.  \n",
    "\n",
    "Generally, we will have a matrix $X$ of dimension $m \\times n$, that is, $m$ rows and $n$ columns and we'll write $X \\in \\mathbb{R}^{m,n}$.  We'll use the following notations to refer to entire columns and / or rows very succinctly.  $(:,j)$ or $(i,:)$ which means all elements in the $j^{th}$ column and all elements in the $i^{th}$ row, repsectively."
   ]
  },
  {
   "cell_type": "markdown",
   "metadata": {},
   "source": [
    "### Transpose of a Matrix\n",
    "\n",
    "Very fundamental operation is transposition - this is switching the row index with the column index for each element.  "
   ]
  },
  {
   "cell_type": "code",
   "execution_count": 44,
   "metadata": {},
   "outputs": [
    {
     "name": "stdout",
     "output_type": "stream",
     "text": [
      "X\n",
      "[[2 7 6]\n",
      " [9 5 1]\n",
      " [4 3 8]]\n",
      "\n",
      "X'\n",
      "[[2 9 4]\n",
      " [7 5 3]\n",
      " [6 1 8]]\n"
     ]
    }
   ],
   "source": [
    "print(\"X\")\n",
    "print(x)\n",
    "print(\"\\nX'\")\n",
    "print(x.T)"
   ]
  },
  {
   "cell_type": "markdown",
   "metadata": {},
   "source": [
    "### Slicing a matrix\n",
    "\n",
    "Very often we'll be interested in a particular row or column or sub-matrix of a matrix."
   ]
  },
  {
   "cell_type": "code",
   "execution_count": 45,
   "metadata": {},
   "outputs": [
    {
     "name": "stdout",
     "output_type": "stream",
     "text": [
      "slicing a matrix\n",
      "\n",
      "[[2 7 6]]\n",
      "\n",
      "shape of x[0,:] is (1, 3)\n",
      "\n",
      "vs slicing an ndarray\n",
      "\n",
      "[2 7 6]\n",
      "\n",
      "shape of x_ndarray[0:] is (3,)\n"
     ]
    }
   ],
   "source": [
    "# slicing\n",
    "# first row\n",
    "print(\"slicing a matrix\\n\")\n",
    "print(x[0,:])\n",
    "print(\"\\nshape of x[0,:] is {}\".format( x[0,:].shape))\n",
    "print(\"\\nvs slicing an ndarray\\n\")\n",
    "print(x_ndarray[0,:])\n",
    "print(\"\\nshape of x_ndarray[0:] is {}\".format(x_ndarray[0,:].shape))"
   ]
  },
  {
   "cell_type": "code",
   "execution_count": 46,
   "metadata": {},
   "outputs": [
    {
     "name": "stdout",
     "output_type": "stream",
     "text": [
      "slicing a matrix\n",
      "\n",
      "[[2]\n",
      " [9]\n",
      " [4]]\n",
      "\n",
      "shape of x[:,0] is (1, 3)\n",
      "\n",
      "vs slicing an ndarray\n",
      "\n",
      "[2 9 4]\n",
      "\n",
      "shape of x_ndarray[:,0] is (3,)\n"
     ]
    }
   ],
   "source": [
    "# slicing\n",
    "# first column\n",
    "print(\"slicing a matrix\\n\")\n",
    "print(x[:,0])\n",
    "print(\"\\nshape of x[:,0] is {}\".format( x[0,:].shape))\n",
    "print(\"\\nvs slicing an ndarray\\n\")\n",
    "print(x_ndarray[:,0])\n",
    "print(\"\\nshape of x_ndarray[:,0] is {}\".format(x_ndarray[0,:].shape))"
   ]
  },
  {
   "cell_type": "code",
   "execution_count": 47,
   "metadata": {},
   "outputs": [
    {
     "name": "stdout",
     "output_type": "stream",
     "text": [
      "[[2 7]\n",
      " [9 5]]\n"
     ]
    }
   ],
   "source": [
    "# slicing \n",
    "# top 2x2 matrix\n",
    "print(x[0:2,0:2])\n"
   ]
  },
  {
   "cell_type": "markdown",
   "metadata": {},
   "source": [
    "### Vectors\n",
    "\n",
    "A vector is an array of numbers.  YOu could think of each row or each column of a matrix as a vector.  If $x$ is a vector of length $N$ we write $x \\in \\mathbb{R}^N$.\n",
    "\n",
    "### Dot Product\n",
    "\n",
    "Given two vectors $x,y$ in $\\mathbb{R}^n$, the dot product (or inner product) of $x$ and $y$, written $x\\cdot y$ or sometimes $\\left<x,y\\right>$ is defined as \n",
    "$$\\left<x,y\\right> = \\sum_{i=1}^n x_i y_i$$\n",
    "\n",
    "For $x = y$, the square root of the dot product is called the $L_2$ norm or Euclidean norm and may be written $\\|x\\|_2$.    \n",
    "\n",
    "\n",
    "## Inner product and correlation coefficient.  \n",
    "\n",
    "For any two vectors $x,y \\in \\mathbb{R}^N$, we have \n",
    "\n",
    "$$\\cos(\\theta) = \\frac{x\\cdot y}{\\|x\\|\\|y\\|}$$\n",
    "\n",
    "where $\\theta$ is the angle between $x$ and $y$.  If $x$ and $y$ both sum to 0 then $\\cos(\\theta)$ is the correlation between $x$ and $y$.   \n",
    "\n",
    "\n",
    "### Matrix Multiplication \n",
    "\n",
    "If $A$ is $m \\times n$ and $B$ is $n \\times p$, then the product $C = AB$ is $m \\times p$ and the \n",
    "\n",
    "$i,j$ element of $C$ is defined as \n",
    "\n",
    "$$C_{i,j} = A_{i,:} \\cdot B_{:,j} = \\sum_{k=1}^n A_{i,k}B_{k,j}$$\n",
    "\n",
    "Or we could say that the $i,j$ element of $C$ is the dot product of the $i^{th}$ row of $A$ and the $j^{th}$ column of $B$. \n",
    "\n"
   ]
  },
  {
   "cell_type": "code",
   "execution_count": 48,
   "metadata": {},
   "outputs": [
    {
     "data": {
      "text/plain": [
       "14"
      ]
     },
     "execution_count": 48,
     "metadata": {},
     "output_type": "execute_result"
    }
   ],
   "source": [
    "# dot products\n",
    "z = np.array([1,2,3])\n",
    "z.dot(z)"
   ]
  },
  {
   "cell_type": "code",
   "execution_count": 49,
   "metadata": {},
   "outputs": [
    {
     "name": "stdout",
     "output_type": "stream",
     "text": [
      "[[91 67 67]\n",
      " [67 91 67]\n",
      " [67 67 91]]\n",
      "\n",
      "[[ 91.  67.  67.]\n",
      " [ 67.  91.  67.]\n",
      " [ 67.  67.  91.]]\n"
     ]
    }
   ],
   "source": [
    "# matrix multiply\n",
    "print(x * x)\n",
    "\n",
    "# same as \n",
    "y = np.zeros([3,3])\n",
    "for i in range(x.shape[0]):\n",
    "    for j in range(x.shape[1]):\n",
    "        y[i][j] = x[i,:].dot(x[:,j])\n",
    "print()\n",
    "print(y)"
   ]
  },
  {
   "cell_type": "markdown",
   "metadata": {},
   "source": [
    "### Hadamard Product\n",
    "\n",
    "For two matrices $A$ and $B$ the Hadamard Product, written $A \\odot B$, is element wise multiplicate, thus $\\dim(A)$ must equal $\\dim(B)$"
   ]
  },
  {
   "cell_type": "code",
   "execution_count": 50,
   "metadata": {},
   "outputs": [
    {
     "name": "stdout",
     "output_type": "stream",
     "text": [
      "[[ 4 49 36]\n",
      " [81 25  1]\n",
      " [16  9 64]]\n"
     ]
    }
   ],
   "source": [
    "# hadamard product -- element-wise multiplication\n",
    "print(np.multiply(x,x))"
   ]
  },
  {
   "cell_type": "markdown",
   "metadata": {},
   "source": [
    "### Identify Matrices and Matrix Inversion\n"
   ]
  },
  {
   "cell_type": "code",
   "execution_count": 51,
   "metadata": {},
   "outputs": [
    {
     "name": "stdout",
     "output_type": "stream",
     "text": [
      "[[ 2.  7.  6.]\n",
      " [ 9.  5.  1.]\n",
      " [ 4.  3.  8.]]\n",
      "\n",
      "[[ 2.  7.  6.]\n",
      " [ 9.  5.  1.]\n",
      " [ 4.  3.  8.]]\n"
     ]
    }
   ],
   "source": [
    "# identity matrix\n",
    "I = np.eye(3)\n",
    "print(x * I)\n",
    "print()\n",
    "print(I * x)"
   ]
  },
  {
   "cell_type": "code",
   "execution_count": 52,
   "metadata": {},
   "outputs": [
    {
     "name": "stdout",
     "output_type": "stream",
     "text": [
      "[[-0.10277778  0.10555556  0.06388889]\n",
      " [ 0.18888889  0.02222222 -0.14444444]\n",
      " [-0.01944444 -0.06111111  0.14722222]]\n",
      "\n",
      "[[ 1.  0.  0.]\n",
      " [ 0.  1.  0.]\n",
      " [-0.  0.  1.]]\n"
     ]
    }
   ],
   "source": [
    "# inverting a square matrix\n",
    "print(np.linalg.inv(x))\n",
    "print()\n",
    "print( np.round(x*np.linalg.inv(x),2))"
   ]
  },
  {
   "cell_type": "code",
   "execution_count": 53,
   "metadata": {},
   "outputs": [
    {
     "name": "stdout",
     "output_type": "stream",
     "text": [
      "x1\n",
      "[[ 2  7  6]\n",
      " [ 9  5  1]\n",
      " [ 4  3  8]\n",
      " [10 12 11]]\n",
      "\n",
      "pseudo inverse of x1\n",
      "[[-0.10158658  0.10631095  0.06449901 -0.00116214]\n",
      " [ 0.13958365 -0.00904452 -0.16969835  0.04810267]\n",
      " [-0.02602193 -0.0652822   0.14385327  0.00641706]]\n",
      "\n",
      "pinv*x1\n",
      "[[ 1.  0. -0.]\n",
      " [ 0.  1.  0.]\n",
      " [-0. -0.  1.]]\n"
     ]
    }
   ],
   "source": [
    "# \"inverting\" a non-square matrix\n",
    "x1 = np.concatenate( (x, np.matrix([10,12,11])), axis=0)\n",
    "pinv = np.linalg.pinv(x1)\n",
    "print(\"x1\")\n",
    "print(x1)\n",
    "print(\"\\npseudo inverse of x1\")\n",
    "print(pinv)\n",
    "print(\"\\npinv*x1\")\n",
    "print(np.round(pinv*x1,1))"
   ]
  },
  {
   "cell_type": "markdown",
   "metadata": {},
   "source": [
    "### Other useful operations"
   ]
  },
  {
   "cell_type": "code",
   "execution_count": 54,
   "metadata": {},
   "outputs": [
    {
     "data": {
      "text/plain": [
       "matrix([[ 0.13333333,  0.46666667,  0.4       ],\n",
       "        [ 0.6       ,  0.33333333,  0.06666667],\n",
       "        [ 0.26666667,  0.2       ,  0.53333333]])"
      ]
     },
     "execution_count": 54,
     "metadata": {},
     "output_type": "execute_result"
    }
   ],
   "source": [
    "# multiplication by scalar\n",
    "p = 1/15 * x\n",
    "p"
   ]
  },
  {
   "cell_type": "code",
   "execution_count": 55,
   "metadata": {},
   "outputs": [
    {
     "name": "stdout",
     "output_type": "stream",
     "text": [
      "[[ 1.  1.  1.]]\n",
      "\n",
      "[[ 1.]\n",
      " [ 1.]\n",
      " [ 1.]]\n"
     ]
    }
   ],
   "source": [
    "# sum columns\n",
    "print( p.sum(axis=0))\n",
    "print()\n",
    "# sum rows \n",
    "print( p.sum(axis=1))"
   ]
  },
  {
   "cell_type": "code",
   "execution_count": 56,
   "metadata": {},
   "outputs": [
    {
     "name": "stdout",
     "output_type": "stream",
     "text": [
      "[[ 5.  5.  5.]] [[ 2.94392029  1.63299316  2.94392029]]\n"
     ]
    }
   ],
   "source": [
    "# mean and standard deviation of columns\n",
    "print( x.mean(axis=0), x.std(axis=0))\n",
    "# mean of rows - just set axis=1\n"
   ]
  },
  {
   "cell_type": "code",
   "execution_count": 57,
   "metadata": {},
   "outputs": [
    {
     "data": {
      "text/plain": [
       "matrix([[ 1.14263081,  1.59466976,  1.4918247 ],\n",
       "        [ 1.8221188 ,  1.39561243,  1.06893911],\n",
       "        [ 1.30560517,  1.22140276,  1.70460487]])"
      ]
     },
     "execution_count": 57,
     "metadata": {},
     "output_type": "execute_result"
    }
   ],
   "source": [
    "## numpy funtions act element-wise on matrices and arrays\n",
    "np.exp(p)"
   ]
  },
  {
   "cell_type": "code",
   "execution_count": 58,
   "metadata": {},
   "outputs": [
    {
     "name": "stdout",
     "output_type": "stream",
     "text": [
      "[[ 1.40505877  0.69054062  0.62268243]\n",
      " [ 0.826257    1.60863334  0.28339149]\n",
      " [ 0.48696606  0.41910787  1.81220791]]\n"
     ]
    }
   ],
   "source": [
    "## for functions of matrices look into scipy.linalg, e.g., exponetial of matrix\n",
    "print(expm(p))"
   ]
  },
  {
   "cell_type": "code",
   "execution_count": 59,
   "metadata": {},
   "outputs": [
    {
     "name": "stdout",
     "output_type": "stream",
     "text": [
      "[[ 1.40505867  0.69054052  0.62268233]\n",
      " [ 0.8262569   1.60863324  0.28339139]\n",
      " [ 0.48696595  0.41910777  1.81220781]]\n"
     ]
    }
   ],
   "source": [
    "# Taylor Approx of exp(p)\n",
    "def fact(n):\n",
    "    if n == 1:\n",
    "        return n\n",
    "    else:\n",
    "        return n*fact(n-1)\n",
    "\n",
    "#np.eye(3) + p + 1/2*p*p + 1/6*p*p*p + 1/24*p*p*p*p + 1/120*p*p*p*p*p\n",
    "e = np.eye(3)\n",
    "for i in range(1,10):\n",
    "    e += 1/fact(i)*np.linalg.matrix_power(p,i)\n",
    "print(e)"
   ]
  },
  {
   "cell_type": "code",
   "execution_count": 60,
   "metadata": {},
   "outputs": [
    {
     "name": "stdout",
     "output_type": "stream",
     "text": [
      "[[ 1.  2.  7.  6.]\n",
      " [ 1.  9.  5.  1.]\n",
      " [ 1.  4.  3.  8.]]\n",
      "\n",
      "[[ 1.  2.  7.  6.]\n",
      " [ 1.  9.  5.  1.]\n",
      " [ 1.  4.  3.  8.]\n",
      " [ 1.  1.  1.  1.]]\n"
     ]
    }
   ],
   "source": [
    "# matrix of ones\n",
    "bias = np.matrix(np.ones([3,1]))\n",
    "# joining the matrix of ones with our matrix x1 from above\n",
    "# very common for regression problems\n",
    "x2 = np.concatenate( [bias, x],axis=1)\n",
    "print(x2)\n",
    "print()\n",
    "# to append the bias as a row, we'll do the following\n",
    "x3 = np.concatenate( [x2, np.ones([1,4])],axis=0)\n",
    "print(x3)"
   ]
  },
  {
   "cell_type": "markdown",
   "metadata": {},
   "source": [
    "A very conventient method for adding in bias to a regression model is through statsmodels via `statsmodels.api.add_constant`.  This will check the rank of your matrix prior to adding a constant"
   ]
  },
  {
   "cell_type": "code",
   "execution_count": 61,
   "metadata": {},
   "outputs": [
    {
     "data": {
      "text/plain": [
       "matrix([[ 1.,  2.,  7.,  6.],\n",
       "        [ 1.,  9.,  5.,  1.],\n",
       "        [ 1.,  4.,  3.,  8.]])"
      ]
     },
     "execution_count": 61,
     "metadata": {},
     "output_type": "execute_result"
    }
   ],
   "source": [
    "import statsmodels.api as sma\n",
    "sma.add_constant(x)"
   ]
  },
  {
   "cell_type": "markdown",
   "metadata": {},
   "source": [
    "Demonstrate similar operations on nd arrays\n"
   ]
  },
  {
   "cell_type": "code",
   "execution_count": 62,
   "metadata": {},
   "outputs": [
    {
     "name": "stdout",
     "output_type": "stream",
     "text": [
      "Hadamard product X \\odot X\n",
      "[[ 4 49 36]\n",
      " [81 25  1]\n",
      " [16  9 64]]\n",
      "matrix multiply X'X\n",
      "[[101  71  53]\n",
      " [ 71  83  71]\n",
      " [ 53  71 101]]\n"
     ]
    }
   ],
   "source": [
    "x = np.array([[2,7,6],[9,5,1],[4,3,8]])\n",
    "\n",
    "print(\"Hadamard product X \\odot X\")\n",
    "print(x*x) # if x were a matrix, this would be matrix mulitply\n",
    "print(\"matrix multiply X'X\")\n",
    "print( np.dot(x.T,x))"
   ]
  },
  {
   "cell_type": "code",
   "execution_count": 63,
   "metadata": {},
   "outputs": [
    {
     "data": {
      "text/plain": [
       "matrix([[ 1.,  5.,  5.,  5.]])"
      ]
     },
     "execution_count": 63,
     "metadata": {},
     "output_type": "execute_result"
    }
   ],
   "source": [
    "x2.mean(axis=0)"
   ]
  },
  {
   "cell_type": "code",
   "execution_count": 64,
   "metadata": {},
   "outputs": [
    {
     "data": {
      "text/plain": [
       "matrix([[ 1.,  5.,  5.,  5.],\n",
       "        [ 1.,  5.,  5.,  5.],\n",
       "        [ 1.,  5.,  5.,  5.]])"
      ]
     },
     "execution_count": 64,
     "metadata": {},
     "output_type": "execute_result"
    }
   ],
   "source": [
    "np.multiply(x2.mean(axis=0),np.ones([3,4]))"
   ]
  },
  {
   "cell_type": "code",
   "execution_count": 65,
   "metadata": {},
   "outputs": [
    {
     "name": "stdout",
     "output_type": "stream",
     "text": [
      "covariance matrix\n",
      "[[  0.   0.   0.   0.]\n",
      " [  0.  13.  -2. -11.]\n",
      " [  0.  -2.   4.  -2.]\n",
      " [  0. -11.  -2.  13.]]\n",
      "\n",
      "correlation matrix\n",
      "[[ 0.          0.          0.          0.        ]\n",
      " [ 0.          1.         -0.2773501  -0.84615385]\n",
      " [ 0.         -0.2773501   1.         -0.2773501 ]\n",
      " [ 0.         -0.84615385 -0.2773501   1.        ]]\n"
     ]
    }
   ],
   "source": [
    "## calc covariance and correlation matrix\n",
    "\n",
    "z = np.matrix(x2 - np.multiply(x2.mean(axis=0),np.ones([3,4])))\n",
    "sig = np.sqrt(np.diag(np.diag(z.T*z)))\n",
    "\n",
    "\n",
    "print(\"covariance matrix\")\n",
    "print(z.T*z / 2)\n",
    "print()\n",
    "print(\"correlation matrix\")\n",
    "print(np.linalg.pinv(sig)*(z.T*z)*np.linalg.pinv(sig))\n",
    "## since the generalized inverse was used the first row and column are 0 instead of nan"
   ]
  },
  {
   "cell_type": "markdown",
   "metadata": {},
   "source": [
    "## Generating Data"
   ]
  },
  {
   "cell_type": "code",
   "execution_count": 80,
   "metadata": {},
   "outputs": [],
   "source": [
    "## useful function from statsmodels\n",
    "from statsmodels.api import add_constant\n",
    "## add_constant will check the rank of your matrix prior to adding a column on 1s.\n",
    "\n",
    "n=500\n",
    "np.random.seed(123)\n",
    "X = np.random.randn(n,2)\n",
    "c = np.matrix(np.ones([n,1]))\n",
    "y = (X*X).sum(axis=1)\n",
    "\n",
    "noise = np.random.lognormal(-1,1,n)\n",
    "\n",
    "y = 1*( (y + noise ) > 2)\n",
    "# y = y + noise\n",
    "y = np.matrix(y).T\n",
    "\n",
    "#y = (y == 1)*1 - (y == 0)*1"
   ]
  },
  {
   "cell_type": "code",
   "execution_count": 81,
   "metadata": {},
   "outputs": [
    {
     "data": {
      "text/html": [
       "<div>\n",
       "<style scoped>\n",
       "    .dataframe tbody tr th:only-of-type {\n",
       "        vertical-align: middle;\n",
       "    }\n",
       "\n",
       "    .dataframe tbody tr th {\n",
       "        vertical-align: top;\n",
       "    }\n",
       "\n",
       "    .dataframe thead th {\n",
       "        text-align: right;\n",
       "    }\n",
       "</style>\n",
       "<table border=\"1\" class=\"dataframe\">\n",
       "  <thead>\n",
       "    <tr style=\"text-align: right;\">\n",
       "      <th></th>\n",
       "      <th>y</th>\n",
       "      <th>x0</th>\n",
       "      <th>x1</th>\n",
       "    </tr>\n",
       "  </thead>\n",
       "  <tbody>\n",
       "    <tr>\n",
       "      <th>count</th>\n",
       "      <td>500.000000</td>\n",
       "      <td>500.000000</td>\n",
       "      <td>500.000000</td>\n",
       "    </tr>\n",
       "    <tr>\n",
       "      <th>mean</th>\n",
       "      <td>0.516000</td>\n",
       "      <td>-0.042167</td>\n",
       "      <td>-0.036961</td>\n",
       "    </tr>\n",
       "    <tr>\n",
       "      <th>std</th>\n",
       "      <td>0.500244</td>\n",
       "      <td>1.011905</td>\n",
       "      <td>0.991565</td>\n",
       "    </tr>\n",
       "    <tr>\n",
       "      <th>min</th>\n",
       "      <td>0.000000</td>\n",
       "      <td>-3.167055</td>\n",
       "      <td>-3.231055</td>\n",
       "    </tr>\n",
       "    <tr>\n",
       "      <th>25%</th>\n",
       "      <td>0.000000</td>\n",
       "      <td>-0.692185</td>\n",
       "      <td>-0.682595</td>\n",
       "    </tr>\n",
       "    <tr>\n",
       "      <th>50%</th>\n",
       "      <td>1.000000</td>\n",
       "      <td>-0.043672</td>\n",
       "      <td>-0.040681</td>\n",
       "    </tr>\n",
       "    <tr>\n",
       "      <th>75%</th>\n",
       "      <td>1.000000</td>\n",
       "      <td>0.683227</td>\n",
       "      <td>0.642703</td>\n",
       "    </tr>\n",
       "    <tr>\n",
       "      <th>max</th>\n",
       "      <td>1.000000</td>\n",
       "      <td>2.766603</td>\n",
       "      <td>3.571579</td>\n",
       "    </tr>\n",
       "  </tbody>\n",
       "</table>\n",
       "</div>"
      ],
      "text/plain": [
       "                y          x0          x1\n",
       "count  500.000000  500.000000  500.000000\n",
       "mean     0.516000   -0.042167   -0.036961\n",
       "std      0.500244    1.011905    0.991565\n",
       "min      0.000000   -3.167055   -3.231055\n",
       "25%      0.000000   -0.692185   -0.682595\n",
       "50%      1.000000   -0.043672   -0.040681\n",
       "75%      1.000000    0.683227    0.642703\n",
       "max      1.000000    2.766603    3.571579"
      ]
     },
     "execution_count": 81,
     "metadata": {},
     "output_type": "execute_result"
    }
   ],
   "source": [
    "column_names = ['y']\n",
    "column_names.extend( ['x{}'.format(i) for i in range(X.shape[1])])\n",
    "data = DataFrame(np.concatenate( [y.reshape(n,1), X], axis=1), \n",
    "                 columns = column_names )\n",
    "data.describe()"
   ]
  },
  {
   "cell_type": "code",
   "execution_count": 82,
   "metadata": {
    "collapsed": true
   },
   "outputs": [],
   "source": [
    "#plot=sns.lmplot('x0','x1',data,hue='y', fit_reg=False)"
   ]
  },
  {
   "cell_type": "code",
   "execution_count": 83,
   "metadata": {
    "collapsed": true
   },
   "outputs": [],
   "source": [
    "# add bias into X\n",
    "X = np.concatenate( (c,X), axis=1)"
   ]
  },
  {
   "cell_type": "markdown",
   "metadata": {},
   "source": [
    "## Fitting a Linear Regression"
   ]
  },
  {
   "cell_type": "markdown",
   "metadata": {},
   "source": [
    "Fitting a linear regression is a fairly simply procedure, but can be prove difficult if there are a significant number of observations, or if there are more features than observations.  \n",
    "\n",
    "If we suppose that our target variable $y$ can be written as a linear combination of features $X_1, X_2, \\ldots, X_n$, i.e., \n",
    "\n",
    "$$y = a + b_1X_1 + b_2X_2 + \\cdots + b_nX_n + \\epsilon$$\n",
    "\n",
    "We can write the succinctly in matrix form as \n",
    "\n",
    "$$y = X\\beta + \\epsilon$$\n",
    "\n",
    "Our objective now is to attempt to provide the single \"best\" estimate of the weights.  This is known as point estimation.  We easily justified method to select \"best\" estimates is be minimizing the average squared distance between the linear projection of our feature matrix and the target ($\\|y - X\\beta\\|_2$).  \n",
    "\n",
    "$$C(\\beta) = \\frac{1}{N}\\sum_{i=1}^N (y_i - X_i\\beta)^2$$\n",
    "\n",
    "Here $i$ is used to index the rows of the matrix.  The object above is referred to as the mean square error.  \n",
    "\n",
    "We may write it in matrix form as \n",
    "\n",
    "$$ C(\\beta) = \\frac{1}{N} (y - X\\beta)^T(y - X\\beta)$$\n",
    "\n",
    "Therefore, we can do some calculus to find the \"best\" estimate of the weights.  \n",
    "\n",
    "$$ \\frac{\\partial}{\\partial \\beta} C(\\beta) = -\\frac{1}{N}X^T(y - X\\beta)$$\n",
    "\n",
    "Setting this equal to 0 and solving for $\\beta$ yields the normal equations.  \n",
    "\n",
    "$$ \\beta^* = (X^TX)^{-1}X^Ty $$\n",
    "\n",
    "Notice how we wrote $\\beta^*$ instead of $\\beta$.  From the frequentist perspective $\\beta$ is a fixed value, and what we wrote above is a point estimate of $\\beta$, which is a function of random variables, $\\beta$ itself is a random variable, so we will write $\\beta^*$ instead.  \n",
    "\n",
    "FYI, the matrix of all partial derivatives is referred to as the Hessian. \n",
    "$$\\frac{\\partial^2 C}{\\partial \\beta_i\\partial\\beta_j} = \\frac{1}{N}X^TX$$\n",
    "Note that if $X$ is centered the Hessian is the covariance matrix!"
   ]
  },
  {
   "cell_type": "code",
   "execution_count": 84,
   "metadata": {},
   "outputs": [
    {
     "name": "stdout",
     "output_type": "stream",
     "text": [
      "[[ 0.51495808]\n",
      " [-0.01314918]\n",
      " [-0.01318832]]\n"
     ]
    }
   ],
   "source": [
    "## solution to the least squares problem\n",
    "print(np.linalg.inv(X.T*X)*X.T*y)"
   ]
  },
  {
   "cell_type": "code",
   "execution_count": 85,
   "metadata": {},
   "outputs": [
    {
     "name": "stdout",
     "output_type": "stream",
     "text": [
      "[[ 0.51495808]\n",
      " [-0.01314918]\n",
      " [-0.01318832]]\n"
     ]
    }
   ],
   "source": [
    "## solution to least squares problem via pseudo inverse\n",
    "print(np.linalg.pinv(X)*y)"
   ]
  },
  {
   "cell_type": "markdown",
   "metadata": {},
   "source": [
    "#### More variables than observations or highly correlated features? \n",
    "\n",
    "We typically assume that there are more rows than columns or that correlation among columns is small (in the absolute sense), but there will be instances where there are (many) more columns than rows, or variables that have correlation close to 1.  When this happens, the covariance matrix is singular or nearly singular.    \n",
    "\n",
    "One popular method to handle this is via ridge regression.  This method shrinks the coefficients of the regression towards zero and in the event of highly correlation features, the regression coefficients \"borrow\" from one another.    Starting with \n",
    "\n",
    "$$C(\\beta) = (y - x\\beta)^T(y-x\\beta)$$\n",
    "\n",
    "We add some penality, which is a function of $\\beta$ as well.  The penalty will be used to keep the model from saturating.  A penalty which lends itself well to this problem is the $L^2$ norm.   \n",
    "\n",
    "$$C^*(\\beta) = \\frac{1}{2} C(\\beta) + \\frac{\\lambda}{2} \\|\\beta\\|$$\n",
    "\n",
    "There is a closed form solution to this problem.  \n",
    "\n",
    "$$\\frac{\\partial C^*}{\\partial \\beta} = -x^T(y-x\\beta) + \\lambda \\beta$$\n",
    "\n",
    "Setting this derivative equal to 0, we get \n",
    "\n",
    "$$0 = -x^Ty + x^Tx\\beta + \\lambda \\beta = -x^Ty + (x^Tx + \\lambda I)\\beta$$\n",
    "\n",
    "Thus \n",
    "\n",
    "$$\\hat{\\beta} = (x^Tx + \\lambda I)^{-1} x^Ty$$\n",
    "\n",
    "Basically, we add a small amount to the diagonal of covariance matrix of $x$ to insure invertibility so that the solution exists.  \n",
    "\n",
    "Above, we just introduced the notion of regularization.  We added a penalty to the optimization problem, and now the solution offers a trade off between fit and its norm.  This can help with overfitting and stability of the model with highly correlated predictors and when the number of features is large.  This regularization is easily implemented when learning neural networks, and that is why we introduce it here.  "
   ]
  },
  {
   "cell_type": "markdown",
   "metadata": {},
   "source": [
    "## Optimization"
   ]
  },
  {
   "cell_type": "markdown",
   "metadata": {},
   "source": [
    "Linear regression is fairly simple to solve (as shown above), but let's solve it using gradient descent.\n",
    "\n",
    "Gradient descent is a first order optimization method, that is, it only uses first derivatives to solve the optimization problem (i.e., find a local extremum).  \n",
    "\n",
    "This method is so great because \n",
    "\n",
    "* you don't need to work about the hessian of the objective function.  Consider Newton Rhapson method which requires calculating the hessian and then inverting it.  This can be very expensive for large problems!! \n",
    "* it is very easy to implement\n",
    "* it is embarrasingly parrallelizable\n",
    "* its extension, Stochastic Gradient Descent, and Mini Batch Gradient Descent are very popular in deep learning \n",
    "\n",
    "### Intuition behind gradient descent\n",
    "\n",
    "For intuitions sake, lets consider $f: \\mathbb{R} \\to \\mathbb{R}$ which is at least differentiable on its domain. We know that for any $x$ in the domain of $f$, we have \n",
    "\n",
    "$$f\\big(x - \\epsilon \\;\\text{sign}(f'(x)\\big) \\le f(x)$$ \n",
    "\n",
    "for small enough $\\epsilon$.  To see this, suppose that for some $x$ in domain of $f$, and $f'(x) > 0$, then $f$ is increasing at $x$, thus there exists $\\epsilon > 0$ such that $f(x - \\epsilon) < f(x)$.  On the other hand, if $f'(x) < 0$ then there exists $\\epsilon > 0$ such that $f(x + \\epsilon) < f(x)$.  Lastly if $f'(x) = 0$, then we are at a (local) optimum.  This means that we can reduce $f$ by moving $x$ by a small amount in the direction opposite the sign of its derivative.  Once $f'(x) = 0$, the derivative provides no information about which direction to move.  "
   ]
  },
  {
   "cell_type": "markdown",
   "metadata": {},
   "source": [
    "### Extending to several dimensions\n",
    "\n",
    "Moving to functions of several variables $f: \\mathbb{R}^N \\to \\mathbb{R}$.  We will consider the gradient and the directional derivative.  The directional derivative of a function in the direction $(u_1,u_2)$ is the slope of the function $f$ in the direction $(u_1,u_2)$, usually with $u_1^2 + u_2^2 = 1$\n",
    "\n",
    "The gradient is an N-tuple of partial derivatives of $f$, written $\\nabla f$.  \n",
    "\n",
    "We will also be interested in the directional derivative.  The directional derivative of $f$ in the direction of $u = (u_1, u_2)$ where $\\|u\\| = 1$ is \n",
    "\n",
    "$$\\frac{\\partial}{\\partial \\alpha} f(x_0 + \\alpha u_1, y_0 + \\alpha u_2)$$\n",
    "\n",
    "If we write $g(\\alpha) = f(x_0 + \\alpha u_1, y_0 + \\alpha u_2)$, and $x = x_0 + \\alpha u_1, y = y_0 + \\alpha u_2$\n",
    "\n",
    "$$g'(\\alpha) = \\frac{\\partial f}{\\partial x}\\frac{\\partial x}{\\partial \\alpha}\n",
    "+ \\frac{\\partial f}{\\partial y}\\frac{\\partial y}{\\partial \\alpha} = f_x(x,y) u_1 + f_y(x,y) u_2$$\n",
    "\n",
    "Lastly, \n",
    "$$g'(0) = f_x(x_0, y_0) u_1 + f_y(x_0, y_0) u_2 = \\nabla f \\cdot u,$$\n",
    "\n",
    "To minimize $f$ we would liek to find the direction in which $f$ decreases fastest, queue the directional derivative, we will minimize \n",
    "\n",
    "$$\\min_{u, \\|u\\|=1} \\nabla f \\cdot u$$\n",
    "\n",
    "Multiply the top and bottom by $\\|u\\| \\|\\nabla f\\|$ to get \n",
    "\n",
    "$$\\min_{u, \\|u\\|=1}\\|u\\| \\|\\nabla f\\| \\cos(\\theta)= \\min_{u, \\|u\\|=1}\\|\\nabla f\\| \\cos(\\theta)$$\n",
    "\n",
    "where $\\theta$ is the angle between $u$ and the gradient.  The direction is such that $u$ points in the direction opposite of the gradient ( cosine of this angle will be -1)"
   ]
  },
  {
   "cell_type": "markdown",
   "metadata": {},
   "source": [
    "For the least squares problem described above, our gradient descent algorithm becomes\n",
    "~~~\n",
    "grad = -X'*(y - X*beta)\n",
    "while norm(grad) > 1e-6\n",
    "  grad = -X'*(y - X*beta)\n",
    "  beta -= learning_rate * grad / n\n",
    "~~~\n",
    "We will set the learning rate to some small amount like 0.1."
   ]
  },
  {
   "cell_type": "code",
   "execution_count": 86,
   "metadata": {
    "collapsed": true
   },
   "outputs": [],
   "source": [
    "## create the objective function \n",
    "\n",
    "class MSE(object):\n",
    "    def valueAt( x, y, beta):\n",
    "        yhat = x * b\n",
    "        e = y - yhat\n",
    "        return y.T*y / x.shape[0]\n",
    "    def gradientAt(x, y, beta):\n",
    "        yhat = x * beta\n",
    "        e = y - yhat\n",
    "        return -x.T*e / x.shape[0]\n",
    "  \n",
    "class L2(object):\n",
    "    def valueAt(b):\n",
    "        return 1/2*linalg.norm(b) \n",
    "    def gradientAt(b):\n",
    "        return b\n",
    "        \n",
    "        \n",
    "    \n",
    "class GradientDescent(object):\n",
    "    def __init__(self, cost_function=MSE, tolerance=1e-6, regularization=None):\n",
    "        self.cost_function = cost_function\n",
    "        self.tol = tolerance\n",
    "        self.iter = 0\n",
    "        self.beta = None\n",
    "        self.regularization = regularization\n",
    "        \n",
    "    def optimize(self, X,y,learning_rate=0.1,init_params=None):\n",
    "        if init_params is None:\n",
    "            beta = np.matrix( np.zeros(X.shape[1])).T\n",
    "        else:\n",
    "            beta = init_params\n",
    "        grad = self.cost_function.gradientAt(X,y,beta)\n",
    "        if self.regularization is not None:\n",
    "            pass\n",
    "        prev_beta = beta\n",
    "        beta = beta - learning_rate*grad\n",
    "        ## several termination criteria to use\n",
    "        ## abs change in beta is small\n",
    "        ## abs change in beta / norm of beta \n",
    "        ## abs change in object is small\n",
    "        ## here we use magitute of the gradient\n",
    "        while np.linalg.norm(prev_beta - beta)/np.linalg.norm(beta) > self.tol:\n",
    "            prev_beta = beta\n",
    "            self.iter += 1\n",
    "            grad = self.cost_function.gradientAt(X,y,beta)\n",
    "            if self.regularization is not None:\n",
    "                pass\n",
    "            beta = beta - learning_rate*grad\n",
    "        self.beta = beta\n",
    "        return beta"
   ]
  },
  {
   "cell_type": "code",
   "execution_count": 87,
   "metadata": {
    "collapsed": true
   },
   "outputs": [],
   "source": [
    "## exercise - how to add regularization into the gradient descent??"
   ]
  },
  {
   "cell_type": "code",
   "execution_count": 88,
   "metadata": {},
   "outputs": [
    {
     "name": "stdout",
     "output_type": "stream",
     "text": [
      "[[ 0.51495808]\n",
      " [-0.01314918]\n",
      " [-0.01318832]]\n"
     ]
    }
   ],
   "source": [
    "b = np.linalg.pinv(X)*y\n",
    "print(b)"
   ]
  },
  {
   "cell_type": "code",
   "execution_count": 89,
   "metadata": {},
   "outputs": [
    {
     "name": "stdout",
     "output_type": "stream",
     "text": [
      "[[ 0.51495387]\n",
      " [-0.01315068]\n",
      " [-0.01318997]]\n",
      "total number of iterations: 112\n"
     ]
    }
   ],
   "source": [
    "\n",
    "linreg = GradientDescent(MSE, 1e-6)\n",
    "b = linreg.optimize(X,y)\n",
    "print(linreg.beta)\n",
    "print(\"total number of iterations: {}\".format(linreg.iter))"
   ]
  },
  {
   "cell_type": "code",
   "execution_count": 90,
   "metadata": {},
   "outputs": [
    {
     "data": {
      "text/plain": [
       "<seaborn.axisgrid.FacetGrid at 0xac280ca0f0>"
      ]
     },
     "execution_count": 90,
     "metadata": {},
     "output_type": "execute_result"
    },
    {
     "data": {
      "image/png": "[encoded data removed]",
      "text/plain": [
       "<matplotlib.figure.Figure at 0xac27af9320>"
      ]
     },
     "metadata": {},
     "output_type": "display_data"
    }
   ],
   "source": [
    "yhat = np.array((X*b > 0)*1).ravel()\n",
    "# yhat = X*b\n",
    "data[\"yhat\"]= yhat\n",
    "# sns.pairplot(data)\n",
    "sns.lmplot(\"x0\",\"x1\",data,hue=\"yhat\", fit_reg=False)"
   ]
  },
  {
   "cell_type": "code",
   "execution_count": 91,
   "metadata": {
    "collapsed": true
   },
   "outputs": [],
   "source": [
    "# let's add in the square of each X\n",
    "X = np.concatenate( (X, np.multiply(X[:,1:],X[:,1:])) ,axis=1)"
   ]
  },
  {
   "cell_type": "code",
   "execution_count": 92,
   "metadata": {},
   "outputs": [
    {
     "name": "stdout",
     "output_type": "stream",
     "text": [
      "[[ 0.17306495]\n",
      " [ 0.0184729 ]\n",
      " [ 0.00340391]\n",
      " [ 0.17345976]\n",
      " [ 0.16921388]]\n",
      "total number of iterations: 215\n"
     ]
    }
   ],
   "source": [
    "## gradient descent\n",
    "gd1 = GradientDescent(MSE)\n",
    "b = gd1.optimize(X,y)\n",
    "print(b)\n",
    "print(\"total number of iterations: {}\".format(gd1.iter))"
   ]
  },
  {
   "cell_type": "code",
   "execution_count": 96,
   "metadata": {},
   "outputs": [
    {
     "data": {
      "text/plain": [
       "<seaborn.axisgrid.FacetGrid at 0xac27cc3080>"
      ]
     },
     "execution_count": 96,
     "metadata": {},
     "output_type": "execute_result"
    },
    {
     "data": {
      "image/png": "[encoded data removed]",
      "text/plain": [
       "<matplotlib.figure.Figure at 0xac27c496a0>"
      ]
     },
     "metadata": {},
     "output_type": "display_data"
    },
    {
     "data": {
      "image/png": "[encoded data removed]",
      "text/plain": [
       "<matplotlib.figure.Figure at 0xac27c49668>"
      ]
     },
     "metadata": {},
     "output_type": "display_data"
    }
   ],
   "source": [
    "yhat2 = np.array((X*b > 0.5)).ravel()\n",
    "# yhat2 = X*b\n",
    "data[\"yhat2\"]= yhat2\n",
    "data[\"x0^2\"] = data[\"x0\"]**2\n",
    "data[\"x1^2\"] = data[\"x1\"]**2\n",
    "# sns.pairplot(data)\n",
    "sns.lmplot(\"x0\",\"x1\",data,hue=\"yhat2\", fit_reg=False)\n",
    "sns.lmplot(\"x0\",\"x1\",data,hue=\"y\", fit_reg=False)"
   ]
  },
  {
   "cell_type": "code",
   "execution_count": 97,
   "metadata": {},
   "outputs": [],
   "source": [
    "# data"
   ]
  },
  {
   "cell_type": "code",
   "execution_count": 100,
   "metadata": {},
   "outputs": [
    {
     "data": {
      "text/html": [
       "<div>\n",
       "<style scoped>\n",
       "    .dataframe tbody tr th:only-of-type {\n",
       "        vertical-align: middle;\n",
       "    }\n",
       "\n",
       "    .dataframe tbody tr th {\n",
       "        vertical-align: top;\n",
       "    }\n",
       "\n",
       "    .dataframe thead th {\n",
       "        text-align: right;\n",
       "    }\n",
       "</style>\n",
       "<table border=\"1\" class=\"dataframe\">\n",
       "  <thead>\n",
       "    <tr style=\"text-align: right;\">\n",
       "      <th></th>\n",
       "      <th>y</th>\n",
       "      <th>yhat2</th>\n",
       "      <th>sum(1)</th>\n",
       "    </tr>\n",
       "  </thead>\n",
       "  <tbody>\n",
       "    <tr>\n",
       "      <th>0</th>\n",
       "      <td>0.0</td>\n",
       "      <td>0</td>\n",
       "      <td>240</td>\n",
       "    </tr>\n",
       "    <tr>\n",
       "      <th>1</th>\n",
       "      <td>0.0</td>\n",
       "      <td>1</td>\n",
       "      <td>2</td>\n",
       "    </tr>\n",
       "    <tr>\n",
       "      <th>2</th>\n",
       "      <td>1.0</td>\n",
       "      <td>0</td>\n",
       "      <td>53</td>\n",
       "    </tr>\n",
       "    <tr>\n",
       "      <th>3</th>\n",
       "      <td>1.0</td>\n",
       "      <td>1</td>\n",
       "      <td>205</td>\n",
       "    </tr>\n",
       "  </tbody>\n",
       "</table>\n",
       "</div>"
      ],
      "text/plain": [
       "     y  yhat2  sum(1)\n",
       "0  0.0      0     240\n",
       "1  0.0      1       2\n",
       "2  1.0      0      53\n",
       "3  1.0      1     205"
      ]
     },
     "execution_count": 100,
     "metadata": {},
     "output_type": "execute_result"
    }
   ],
   "source": [
    "pysqldf(\"select y, yhat2, sum(1) from data group by y, yhat2;\")"
   ]
  },
  {
   "cell_type": "markdown",
   "metadata": {},
   "source": [
    "## Fitting a Logistic Regression\n",
    "\n",
    "Given a categorical variable $y$ with 2 classes (binary variable), $y$ can best be described as a Bernoulli random variable - which is a random variable that takes the value $A$ with probability $p$ and the value $B$ with probability $1 - p$.  \n",
    "\n",
    "We are interested in modeling the posterior probabilities of the 2 classes via some linear function in $x$.  \n",
    "\n",
    "$y$ can best be described as a Bernoulli random variable, that is a variable that can assume two values\n",
    "\n",
    "The model takes the form\n",
    "\n",
    "$$ \\log \\frac{ \\mathbb{P}(y = 1 | X = x) }{ \\mathbb{P}(y = 0 | X = x) } = x\\beta $$\n",
    "\n",
    "The function on left hand side is known as the logit function.  \n",
    "\n",
    "It can be shown then that \n",
    "$$ \\mathbb{P}(y = 1 | X = x) = \\frac{\\exp(x\\beta)}{(1 + \\exp(x\\beta)}$$\n",
    "The function on the right is the sigmoid function and is strictly between 0 and 1.  \n",
    "and \n",
    "$$ \\mathbb{P}(y = 0 | X = x) = 1 - \\mathbb{P}(y = 1 | X = x)$$ \n",
    "\n",
    "We will use objective function \n",
    "\n",
    "$$-\\sum_{i=1}^N \\big(y_i\\log(p_i) + (1 - y_i)\\log(1 - p_i)\\big)$$\n",
    "\n",
    "Unfortunately, there is not closed form solution to this problem and must be solved numerically.  Standard method use Newton Rhapson (second order method - it uses gradient and Hessian for the optimization), but we will use gradient descent, which is first order since it only uses the gradient.  "
   ]
  },
  {
   "cell_type": "code",
   "execution_count": 101,
   "metadata": {
    "collapsed": true
   },
   "outputs": [],
   "source": [
    "def sigmoid(z):\n",
    "    return 1/(1 + np.exp(-z))\n",
    "\n",
    "## creating this as object to expose value and gradient methods \n",
    "class BCE(object):\n",
    "    \n",
    "    def valueAt( x, y, beta):\n",
    "        p = sigmoid(x*beta)\n",
    "        ll = y.T*(np.log(p + 1e-3)) + (1 - y).T*( np.log(1 - p + 1e-3))\n",
    "        return -ll / x.shape[0]\n",
    "        \n",
    "    def gradientAt( x, y, beta):\n",
    "        p = sigmoid(x*beta)\n",
    "        grad = x.T.dot(y - p) / x.shape[0]\n",
    "        return -grad"
   ]
  },
  {
   "cell_type": "code",
   "execution_count": 102,
   "metadata": {},
   "outputs": [
    {
     "name": "stdout",
     "output_type": "stream",
     "text": [
      "iterations: 1386\n",
      "[[-4.17393253  0.01093814  0.17922617  2.75092567  2.87941709]]\n"
     ]
    },
    {
     "data": {
      "text/plain": [
       "matrix([[ 0.26623143]])"
      ]
     },
     "execution_count": 102,
     "metadata": {},
     "output_type": "execute_result"
    }
   ],
   "source": [
    "logistic_regression = GradientDescent(BCE, tolerance=1e-7)\n",
    "b = logistic_regression.optimize(X,y,learning_rate=1.0)\n",
    "print(\"iterations: {}\".format(logistic_regression.iter))\n",
    "print(logistic_regression.beta.T)\n",
    "BCE.valueAt(X,y,b)"
   ]
  },
  {
   "cell_type": "code",
   "execution_count": 103,
   "metadata": {},
   "outputs": [
    {
     "data": {
      "text/plain": [
       "0.51600000000000001"
      ]
     },
     "execution_count": 103,
     "metadata": {},
     "output_type": "execute_result"
    }
   ],
   "source": [
    "y.mean()"
   ]
  },
  {
   "cell_type": "code",
   "execution_count": 104,
   "metadata": {},
   "outputs": [
    {
     "data": {
      "text/html": [
       "<div>\n",
       "<style scoped>\n",
       "    .dataframe tbody tr th:only-of-type {\n",
       "        vertical-align: middle;\n",
       "    }\n",
       "\n",
       "    .dataframe tbody tr th {\n",
       "        vertical-align: top;\n",
       "    }\n",
       "\n",
       "    .dataframe thead th {\n",
       "        text-align: right;\n",
       "    }\n",
       "</style>\n",
       "<table border=\"1\" class=\"dataframe\">\n",
       "  <thead>\n",
       "    <tr style=\"text-align: right;\">\n",
       "      <th></th>\n",
       "      <th>y</th>\n",
       "      <th>x0</th>\n",
       "      <th>x1</th>\n",
       "      <th>yhat</th>\n",
       "      <th>yhat2</th>\n",
       "      <th>x0^2</th>\n",
       "      <th>x1^2</th>\n",
       "      <th>phat</th>\n",
       "    </tr>\n",
       "  </thead>\n",
       "  <tbody>\n",
       "    <tr>\n",
       "      <th>0</th>\n",
       "      <td>1.0</td>\n",
       "      <td>-1.085631</td>\n",
       "      <td>0.997345</td>\n",
       "      <td>1</td>\n",
       "      <td>True</td>\n",
       "      <td>1.178594</td>\n",
       "      <td>0.994698</td>\n",
       "      <td>1</td>\n",
       "    </tr>\n",
       "    <tr>\n",
       "      <th>1</th>\n",
       "      <td>1.0</td>\n",
       "      <td>0.282978</td>\n",
       "      <td>-1.506295</td>\n",
       "      <td>1</td>\n",
       "      <td>True</td>\n",
       "      <td>0.080077</td>\n",
       "      <td>2.268924</td>\n",
       "      <td>1</td>\n",
       "    </tr>\n",
       "    <tr>\n",
       "      <th>2</th>\n",
       "      <td>1.0</td>\n",
       "      <td>-0.578600</td>\n",
       "      <td>1.651437</td>\n",
       "      <td>1</td>\n",
       "      <td>True</td>\n",
       "      <td>0.334778</td>\n",
       "      <td>2.727243</td>\n",
       "      <td>1</td>\n",
       "    </tr>\n",
       "    <tr>\n",
       "      <th>3</th>\n",
       "      <td>1.0</td>\n",
       "      <td>-2.426679</td>\n",
       "      <td>-0.428913</td>\n",
       "      <td>1</td>\n",
       "      <td>True</td>\n",
       "      <td>5.888772</td>\n",
       "      <td>0.183966</td>\n",
       "      <td>1</td>\n",
       "    </tr>\n",
       "    <tr>\n",
       "      <th>4</th>\n",
       "      <td>1.0</td>\n",
       "      <td>1.265936</td>\n",
       "      <td>-0.866740</td>\n",
       "      <td>1</td>\n",
       "      <td>True</td>\n",
       "      <td>1.602595</td>\n",
       "      <td>0.751239</td>\n",
       "      <td>1</td>\n",
       "    </tr>\n",
       "  </tbody>\n",
       "</table>\n",
       "</div>"
      ],
      "text/plain": [
       "     y        x0        x1  yhat  yhat2      x0^2      x1^2  phat\n",
       "0  1.0 -1.085631  0.997345     1   True  1.178594  0.994698     1\n",
       "1  1.0  0.282978 -1.506295     1   True  0.080077  2.268924     1\n",
       "2  1.0 -0.578600  1.651437     1   True  0.334778  2.727243     1\n",
       "3  1.0 -2.426679 -0.428913     1   True  5.888772  0.183966     1\n",
       "4  1.0  1.265936 -0.866740     1   True  1.602595  0.751239     1"
      ]
     },
     "execution_count": 104,
     "metadata": {},
     "output_type": "execute_result"
    }
   ],
   "source": [
    "data[\"phat\"] = 1*(sigmoid(X.dot(logistic_regression.beta))>0.5)\n",
    "data.head()"
   ]
  },
  {
   "cell_type": "code",
   "execution_count": 105,
   "metadata": {},
   "outputs": [
    {
     "data": {
      "text/plain": [
       "<seaborn.axisgrid.FacetGrid at 0xac27d87898>"
      ]
     },
     "execution_count": 105,
     "metadata": {},
     "output_type": "execute_result"
    },
    {
     "data": {
      "image/png": "[encoded data removed]",
      "text/plain": [
       "<matplotlib.figure.Figure at 0xac27d87400>"
      ]
     },
     "metadata": {},
     "output_type": "display_data"
    }
   ],
   "source": [
    "sns.lmplot('x0','x1',data,hue='phat',fit_reg=False)"
   ]
  },
  {
   "cell_type": "code",
   "execution_count": 106,
   "metadata": {
    "collapsed": true
   },
   "outputs": [],
   "source": [
    "TP= (data[\"phat\"]==1) & (data[\"y\"] == 1)\n",
    "FP = (data[\"phat\"]==1)&(data[\"y\"] == 0)\n",
    "FN = (data[\"phat\"]==0)&(data[\"y\"] == 1)\n",
    "TN = (data[\"phat\"] == 0)&(data[\"y\"] == 0)\n",
    "cm = np.array( [[TP.sum(), FP.sum()],[FN.sum(), TN.sum()]])"
   ]
  },
  {
   "cell_type": "code",
   "execution_count": 107,
   "metadata": {},
   "outputs": [
    {
     "data": {
      "text/html": [
       "<div>\n",
       "<style scoped>\n",
       "    .dataframe tbody tr th:only-of-type {\n",
       "        vertical-align: middle;\n",
       "    }\n",
       "\n",
       "    .dataframe tbody tr th {\n",
       "        vertical-align: top;\n",
       "    }\n",
       "\n",
       "    .dataframe thead th {\n",
       "        text-align: right;\n",
       "    }\n",
       "</style>\n",
       "<table border=\"1\" class=\"dataframe\">\n",
       "  <thead>\n",
       "    <tr style=\"text-align: right;\">\n",
       "      <th></th>\n",
       "      <th>y</th>\n",
       "      <th>phat</th>\n",
       "      <th>sum(1)</th>\n",
       "    </tr>\n",
       "  </thead>\n",
       "  <tbody>\n",
       "    <tr>\n",
       "      <th>0</th>\n",
       "      <td>0.0</td>\n",
       "      <td>0</td>\n",
       "      <td>220</td>\n",
       "    </tr>\n",
       "    <tr>\n",
       "      <th>1</th>\n",
       "      <td>0.0</td>\n",
       "      <td>1</td>\n",
       "      <td>22</td>\n",
       "    </tr>\n",
       "    <tr>\n",
       "      <th>2</th>\n",
       "      <td>1.0</td>\n",
       "      <td>0</td>\n",
       "      <td>29</td>\n",
       "    </tr>\n",
       "    <tr>\n",
       "      <th>3</th>\n",
       "      <td>1.0</td>\n",
       "      <td>1</td>\n",
       "      <td>229</td>\n",
       "    </tr>\n",
       "  </tbody>\n",
       "</table>\n",
       "</div>"
      ],
      "text/plain": [
       "     y  phat  sum(1)\n",
       "0  0.0     0     220\n",
       "1  0.0     1      22\n",
       "2  1.0     0      29\n",
       "3  1.0     1     229"
      ]
     },
     "execution_count": 107,
     "metadata": {},
     "output_type": "execute_result"
    }
   ],
   "source": [
    "pysqldf(\"select y, phat, sum(1) from data group by y, phat;\")"
   ]
  },
  {
   "cell_type": "code",
   "execution_count": 108,
   "metadata": {},
   "outputs": [
    {
     "name": "stdout",
     "output_type": "stream",
     "text": [
      "[[229  22]\n",
      " [ 29 220]]\n"
     ]
    },
    {
     "data": {
      "text/plain": [
       "449"
      ]
     },
     "execution_count": 108,
     "metadata": {},
     "output_type": "execute_result"
    }
   ],
   "source": [
    "print(cm)\n",
    "np.diag(cm).sum()"
   ]
  },
  {
   "cell_type": "markdown",
   "metadata": {
    "collapsed": true
   },
   "source": [
    "## stochastic gradient descent\n",
    "\n",
    "Stochastic graident descent (SGD) is the defacto method for training neural networks.  It is also used to train large linear models on very large datasets.  \n",
    "\n",
    "As we have seen with our linear and logistic regression examples above, the cost functions are additive, and the gradient descent algorithm can cost alot in terms of the computations involves.  \n",
    "\n",
    "Stochastic gradient descent computes the gradient using as few a one example to as many as a few hundred.  This sample is referred to as a minibatch, and we will need to set the minibatch size as an algorithm.  The minibatch of sample is drawn uniformly from the training data.  This implies that a model may be trained on very few number of expamples relative to the entire dataset.  \n",
    "\n",
    "This algorithm is very useful when data sets are huge, and cannot fit in main memory.  It also easily incorporates new data into the updates of a model.  \n",
    "\n",
    "On each step of the algorithm, we sample a minibatch of examples from the training data.  The minibatch size typically ranges between 1 and a few hundred.  Small batches can offer regularizing effects, but will also require very small learning rates.  Depending on the way sampling of examples, \n",
    "\n",
    "~~~\n",
    "learning_rate = e\n",
    "beta = np.random.randn(n,1)\n",
    "while stopping criterion not met do:\n",
    "  sample a minibatch of m examples from the training set\n",
    "  computer gradient estimate g <- 1/m grad( sample ) \n",
    "  update beta <- beta - learning_rate*g\n",
    "~~~"
   ]
  },
  {
   "cell_type": "markdown",
   "metadata": {},
   "source": [
    "#### AdaGrad (adaptive gradient) \n",
    "\n",
    "This algorithm inidividually adapts the learning rate of all model parameters.  "
   ]
  },
  {
   "cell_type": "code",
   "execution_count": 109,
   "metadata": {
    "collapsed": true
   },
   "outputs": [],
   "source": [
    "## sgd with adagrad\n",
    "minibatch_size = 128\n",
    "nobs, num_features = X.shape\n",
    "num_outputs = 1\n",
    "u = np.sqrt(6/(num_features + num_outputs)) ## Glorot and Bengio\n",
    "beta = np.random.uniform(-u, u,num_features )\n",
    "beta = np.matrix(beta).T\n",
    "epochs = 1000\n",
    "num_batches = 32\n",
    "it = 0\n",
    "############# specific to adagrad ##########\n",
    "epsilon = 1.0  ## global learning rate\n",
    "delta = 1e-7\n",
    "r = np.matrix( np.zeros([X.shape[1],1]))\n",
    "############################################"
   ]
  },
  {
   "cell_type": "code",
   "execution_count": 110,
   "metadata": {},
   "outputs": [
    {
     "name": "stdout",
     "output_type": "stream",
     "text": [
      "cost function at current beta: [[ 0.92725227]]\n",
      "cost function at current beta: [[ 0.6416181]]\n",
      "cost function at current beta: [[ 0.54269133]]\n",
      "cost function at current beta: [[ 0.50249948]]\n",
      "cost function at current beta: [[ 0.45429497]]\n",
      "cost function at current beta: [[ 0.4324974]]\n",
      "cost function at current beta: [[ 0.41442936]]\n",
      "cost function at current beta: [[ 0.38945351]]\n",
      "cost function at current beta: [[ 0.37733499]]\n",
      "\n",
      "[[ 0.26650422]] 0.00829734442887\n",
      "\n",
      "[[-4.25150754 -0.02839208  0.11611619  2.74572865  2.90245895]]\n",
      "iterations 16000\n"
     ]
    }
   ],
   "source": [
    "c = []\n",
    "for i in range(epochs):\n",
    "    index = np.arange(X.shape[0])\n",
    "    np.random.shuffle(index)\n",
    "    for i in np.arange( np.ceil(nobs/num_batches)):\n",
    "        it += 1\n",
    "#         batch = index[:num_batches] if len(index) > num_batches else index.copy()\n",
    "#         index = np.delete(index, np.arange(num_batches)) if len(index) > num_batches else None\n",
    "        batch = np.random.choice(nobs, minibatch_size, replace=False)\n",
    "        grad = BCE.gradientAt(X[batch, :], y[batch], beta)\n",
    "        r = r + np.multiply(grad, grad)\n",
    "        update = np.multiply(epsilon / (delta + np.sqrt(r)) , grad)\n",
    "        beta = beta - update\n",
    "        c.append(BCE.valueAt(X,y,beta)[0,0])\n",
    "        if it < 10:\n",
    "            print(\"cost function at current beta: {}\".format(BCE.valueAt(X,y,beta)))\n",
    "print()\n",
    "print(BCE.valueAt(X,y,beta), np.linalg.norm(BCE.gradientAt(X,y,beta)))\n",
    "print()\n",
    "print(beta.T)\n",
    "print(\"iterations {}\".format(it))"
   ]
  },
  {
   "cell_type": "markdown",
   "metadata": {},
   "source": [
    "## Statsmodels"
   ]
  },
  {
   "cell_type": "code",
   "execution_count": 111,
   "metadata": {},
   "outputs": [
    {
     "name": "stdout",
     "output_type": "stream",
     "text": [
      "                 Generalized Linear Model Regression Results                  \n",
      "==============================================================================\n",
      "Dep. Variable:                      y   No. Observations:                  500\n",
      "Model:                            GLM   Df Residuals:                      495\n",
      "Model Family:                Binomial   Df Model:                            4\n",
      "Link Function:                  logit   Scale:                             1.0\n",
      "Method:                          IRLS   Log-Likelihood:                -134.15\n",
      "Date:                Mon, 04 Dec 2017   Deviance:                       268.30\n",
      "Time:                        23:43:39   Pearson chi2:                     540.\n",
      "No. Iterations:                     7                                         \n",
      "==============================================================================\n",
      "                 coef    std err          z      P>|z|      [0.025      0.975]\n",
      "------------------------------------------------------------------------------\n",
      "const         -4.1740      0.387    -10.784      0.000      -4.933      -3.415\n",
      "x1             0.0109      0.185      0.059      0.953      -0.352       0.374\n",
      "x2             0.1792      0.195      0.920      0.358      -0.203       0.561\n",
      "x3             2.7510      0.294      9.346      0.000       2.174       3.328\n",
      "x4             2.8795      0.305      9.453      0.000       2.282       3.476\n",
      "==============================================================================\n"
     ]
    }
   ],
   "source": [
    "import statsmodels.api as sma\n",
    "import statsmodels as sm\n",
    "fit = sma.GLM(endog = y, exog=X, family = sma.families.Binomial()).fit()\n",
    "print(fit.summary())\n",
    "sm_parms = fit.params"
   ]
  },
  {
   "cell_type": "markdown",
   "metadata": {},
   "source": [
    "## Scikit learn"
   ]
  },
  {
   "cell_type": "code",
   "execution_count": 112,
   "metadata": {
    "collapsed": true
   },
   "outputs": [],
   "source": [
    "from sklearn.linear_model import SGDClassifier as SGD"
   ]
  },
  {
   "cell_type": "code",
   "execution_count": 113,
   "metadata": {
    "collapsed": true
   },
   "outputs": [],
   "source": [
    "sgd = SGD(loss='log', fit_intercept=False, n_iter=1000)"
   ]
  },
  {
   "cell_type": "code",
   "execution_count": 114,
   "metadata": {},
   "outputs": [
    {
     "name": "stderr",
     "output_type": "stream",
     "text": [
      "C:\\Users\\Whittakert\\Anaconda3\\envs\\dlnd\\lib\\site-packages\\sklearn\\linear_model\\stochastic_gradient.py:117: DeprecationWarning: n_iter parameter is deprecated in 0.19 and will be removed in 0.21. Use max_iter and tol instead.\n",
      "  DeprecationWarning)\n"
     ]
    }
   ],
   "source": [
    "sgd_fit = sgd.fit(X, np.array(y.T)[0])"
   ]
  },
  {
   "cell_type": "code",
   "execution_count": 115,
   "metadata": {},
   "outputs": [
    {
     "name": "stdout",
     "output_type": "stream",
     "text": [
      "[[-4.13044238  0.01891232  0.16554699  2.724524    2.83088869]]\n"
     ]
    }
   ],
   "source": [
    "sklearn_parms = sgd_fit.coef_\n",
    "print(sklearn_parms)"
   ]
  },
  {
   "cell_type": "markdown",
   "metadata": {},
   "source": [
    "## TensorFlow\n",
    "\n",
    "Next, we'll estimate the same logistic regression via TensorFlow"
   ]
  },
  {
   "cell_type": "code",
   "execution_count": 116,
   "metadata": {
    "collapsed": true
   },
   "outputs": [],
   "source": [
    "import tensorflow as tf"
   ]
  },
  {
   "cell_type": "code",
   "execution_count": 117,
   "metadata": {},
   "outputs": [
    {
     "name": "stdout",
     "output_type": "stream",
     "text": [
      "[[-4.1765995   0.01094143  0.17940281  2.7526741   2.88123536]]\n"
     ]
    }
   ],
   "source": [
    "nobs, n_features = X.shape\n",
    "\n",
    "# create the computational graph\n",
    "\n",
    "learning_rate = tf.placeholder(\"float\") # learning rate\n",
    "xt = tf.placeholder(\"float\", shape = [None, n_features]) # x as a tensor\n",
    "yt = tf.placeholder(\"float\", shape = [None, 1]) # y as a tensor\n",
    "weights = tf.Variable(tf.random_normal([n_features,1]), name=\"weights\" )\n",
    "logits = tf.matmul(xt, weights) ## notice we don't apply the sigmoid function at all\n",
    "cost = tf.reduce_mean(tf.nn.sigmoid_cross_entropy_with_logits(logits = logits, labels = yt))\n",
    "optimizer = tf.train.GradientDescentOptimizer(learning_rate=learning_rate).minimize(cost)\n",
    "\n",
    "# run the graph\n",
    "with tf.Session() as sess:\n",
    "    sess.run(tf.global_variables_initializer())\n",
    "    for i in range(100):\n",
    "        sess.run(optimizer, feed_dict = {yt: y, xt: X, learning_rate: 10 })\n",
    "    tf_parms = sess.run(weights)\n",
    "    print(tf_parms.T)\n",
    "    "
   ]
  },
  {
   "cell_type": "code",
   "execution_count": 119,
   "metadata": {},
   "outputs": [
    {
     "data": {
      "text/html": [
       "<div>\n",
       "<style scoped>\n",
       "    .dataframe tbody tr th:only-of-type {\n",
       "        vertical-align: middle;\n",
       "    }\n",
       "\n",
       "    .dataframe tbody tr th {\n",
       "        vertical-align: top;\n",
       "    }\n",
       "\n",
       "    .dataframe thead th {\n",
       "        text-align: right;\n",
       "    }\n",
       "</style>\n",
       "<table border=\"1\" class=\"dataframe\">\n",
       "  <thead>\n",
       "    <tr style=\"text-align: right;\">\n",
       "      <th></th>\n",
       "      <th>from_scratch</th>\n",
       "      <th>tensorflow</th>\n",
       "      <th>sklearn</th>\n",
       "      <th>statsmodels</th>\n",
       "    </tr>\n",
       "  </thead>\n",
       "  <tbody>\n",
       "    <tr>\n",
       "      <th>0</th>\n",
       "      <td>-4.251508</td>\n",
       "      <td>-4.176600</td>\n",
       "      <td>-4.130442</td>\n",
       "      <td>-4.173989</td>\n",
       "    </tr>\n",
       "    <tr>\n",
       "      <th>1</th>\n",
       "      <td>-0.028392</td>\n",
       "      <td>0.010941</td>\n",
       "      <td>0.018912</td>\n",
       "      <td>0.010938</td>\n",
       "    </tr>\n",
       "    <tr>\n",
       "      <th>2</th>\n",
       "      <td>0.116116</td>\n",
       "      <td>0.179403</td>\n",
       "      <td>0.165547</td>\n",
       "      <td>0.179230</td>\n",
       "    </tr>\n",
       "    <tr>\n",
       "      <th>3</th>\n",
       "      <td>2.745729</td>\n",
       "      <td>2.752674</td>\n",
       "      <td>2.724524</td>\n",
       "      <td>2.750963</td>\n",
       "    </tr>\n",
       "    <tr>\n",
       "      <th>4</th>\n",
       "      <td>2.902459</td>\n",
       "      <td>2.881235</td>\n",
       "      <td>2.830889</td>\n",
       "      <td>2.879456</td>\n",
       "    </tr>\n",
       "  </tbody>\n",
       "</table>\n",
       "</div>"
      ],
      "text/plain": [
       "   from_scratch  tensorflow   sklearn  statsmodels\n",
       "0     -4.251508   -4.176600 -4.130442    -4.173989\n",
       "1     -0.028392    0.010941  0.018912     0.010938\n",
       "2      0.116116    0.179403  0.165547     0.179230\n",
       "3      2.745729    2.752674  2.724524     2.750963\n",
       "4      2.902459    2.881235  2.830889     2.879456"
      ]
     },
     "execution_count": 119,
     "metadata": {},
     "output_type": "execute_result"
    }
   ],
   "source": [
    "\n",
    "parms = DataFrame([np.array(beta).ravel(), tf_parms.ravel(), sklearn_parms.ravel(), sm_parms]).T\n",
    "parms.columns = [\"from_scratch\", \"tensorflow\", \"sklearn\", \"statsmodels\"]\n",
    "parms"
   ]
  },
  {
   "cell_type": "code",
   "execution_count": null,
   "metadata": {
    "collapsed": true
   },
   "outputs": [],
   "source": []
  },
  {
   "cell_type": "code",
   "execution_count": null,
   "metadata": {
    "collapsed": true
   },
   "outputs": [],
   "source": []
  }
 ],
 "metadata": {
  "kernelspec": {
   "display_name": "Python [conda env:dlnd]",
   "language": "python",
   "name": "conda-env-dlnd-py"
  },
  "language_info": {
   "codemirror_mode": {
    "name": "ipython",
    "version": 3
   },
   "file_extension": ".py",
   "mimetype": "text/x-python",
   "name": "python",
   "nbconvert_exporter": "python",
   "pygments_lexer": "ipython3",
   "version": "3.6.3"
  }
 },
 "nbformat": 4,
 "nbformat_minor": 2
}
