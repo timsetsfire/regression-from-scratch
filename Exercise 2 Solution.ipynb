{
 "cells": [
  {
   "cell_type": "markdown",
   "metadata": {},
   "source": [
    "## Solution\n",
    "\n",
    "In this book we'll demonstrate a method to pick the \"best\" $\\lambda$ for $L_2$ regularization.  I say \"best\" because the choosen $\\lambda$ will be best with regard to the way we sample the data.  \n",
    "\n",
    "A general outline of the solution\n",
    "\n",
    "* Split our data up into train, validation and test datasets\n",
    "* Create a list of $\\lambda$'s to loop through\n",
    "* With each loop, we'll calc the regularized beta solution with the training data and calc the mean square error on our validation data.\n",
    "* The betas corresponding to the $\\lambda$ which gave the best sum of squared error will be tested on on the test data along side the OLS solution\n",
    "\n",
    "Recall our regularized betas can be calc'd as \n",
    "$$\\beta_\\lambda = (X^TX + \\lambda I)^{-1}X^Ty$$\n",
    "and that out OLS solution is\n",
    "$$\\beta_{OLS} = (X^TX)^{-1}X^Ty$$\n",
    "\n",
    "$I$ is an n by n identity matrix, where n is the number of features in $X$.\n",
    "\n",
    "If you don't standardize your data, you must add a bias.  Since we don't want to regularize the bias set $I_{1,1} = 0$ (this is the top left most entry - I'm not starting my indexing with 0's)\n",
    "\n",
    "The mean square error (MSE) will be our cost function\n",
    "\n",
    "$$ MSE = \\frac{1}{m}(y - X\\beta)^T(y-X\\beta)$$\n",
    "\n",
    "with $m$ equal to the number of observations"
   ]
  },
  {
   "cell_type": "code",
   "execution_count": 1,
   "metadata": {
    "collapsed": true
   },
   "outputs": [],
   "source": [
    "from sklearn.model_selection import train_test_split  # used to split up out data\n",
    "from sklearn.datasets import load_boston  \n",
    "from sklearn.preprocessing import StandardScaler # used to standardize data\n",
    "import numpy as np \n",
    "import seaborn as sns # my favorite plotting tool\n",
    "from pandas import DataFrame "
   ]
  },
  {
   "cell_type": "code",
   "execution_count": 2,
   "metadata": {
    "collapsed": true
   },
   "outputs": [],
   "source": [
    "lin_reg_data = load_boston(return_X_y = False)"
   ]
  },
  {
   "cell_type": "code",
   "execution_count": 3,
   "metadata": {
    "collapsed": true
   },
   "outputs": [],
   "source": [
    "X = lin_reg_data.data\n",
    "X = np.matrix(X)\n",
    "y = lin_reg_data.target\n",
    "y = np.matrix(y).T"
   ]
  },
  {
   "cell_type": "code",
   "execution_count": 4,
   "metadata": {},
   "outputs": [
    {
     "name": "stdout",
     "output_type": "stream",
     "text": [
      "best error and lambda:  0.306482538555 35.9495480287\n"
     ]
    }
   ],
   "source": [
    "\n",
    "## split our data into three sets: training, validation and test\n",
    "X_train, X_test, y_train, y_test =  train_test_split(X,y,test_size=0.1, random_state = 177)\n",
    "X_train, X_val, y_train, y_val = train_test_split(X_train, y_train,test_size=0.3, random_state = 177)\n",
    "\n",
    "## create StandardScalers to standardize both X and y\n",
    "ss_x = StandardScaler()  \n",
    "ss_y = StandardScaler()\n",
    "\n",
    "## fit the standardizer on the training data. \n",
    "ss_x.fit(X_train)  \n",
    "ss_y.fit(y_train)\n",
    "\n",
    "## standardize all the data \n",
    "## and cast everything as a matrix \n",
    "X_train = np.matrix(ss_x.transform(X_train))\n",
    "X_val = np.matrix(ss_x.transform(X_val))\n",
    "X_test = np.matrix(ss_x.transform(X_test))\n",
    "\n",
    "y_train = np.matrix(ss_y.transform(y_train))\n",
    "y_val = np.matrix(ss_y.transform(y_val))\n",
    "y_test = np.matrix(ss_y.transform(y_test))\n",
    "\n",
    "## get the number of observations and features\n",
    "m,n = X_train.shape\n",
    "\n",
    "## create the identity matrix\n",
    "I = np.eye(n)\n",
    "\n",
    "# calc the largest lambda (just a rule of thumb calculation)\n",
    "reg = np.max( np.fabs( X_train.T*y_train)/m)/1e-3\n",
    "best_lambda = reg\n",
    "best_error = np.Infinity\n",
    "\n",
    "## create list of lambdas to loop through\n",
    "lambdas = np.exp(np.linspace(-10,np.log(reg),100))\n",
    "\n",
    "## initialize list to store the sum of squared errors for each loop\n",
    "sses = []\n",
    "for reg in lambdas:\n",
    "    b = np.linalg.inv( X_train.T*X_train + reg*I)*X_train.T*y_train\n",
    "    error = ((y_val - X_val*b).T * (y_val - X_val*b))/X_val.shape[0]\n",
    "    sses.append(error[0,0])\n",
    "    if error[0][0] < best_error:\n",
    "        best_error = error[0,0]\n",
    "        best_lambda = reg\n",
    "    #print(\"{: <8} \\t {}\".format(np.round(reg,6),error[0,0]))\n",
    "print(\"best error and lambda: \", best_error, best_lambda)"
   ]
  },
  {
   "cell_type": "code",
   "execution_count": 5,
   "metadata": {},
   "outputs": [
    {
     "data": {
      "text/plain": [
       "<seaborn.axisgrid.FacetGrid at 0xf72cafb320>"
      ]
     },
     "execution_count": 5,
     "metadata": {},
     "output_type": "execute_result"
    },
    {
     "data": {
      "image/png": "[encoded data removed]",
      "text/plain": [
       "<matplotlib.figure.Figure at 0xf72cafb390>"
      ]
     },
     "metadata": {},
     "output_type": "display_data"
    }
   ],
   "source": [
    "cv = DataFrame([lambdas, sses]).T\n",
    "cv.columns = [\"lambda\", \"cost\"]\n",
    "sns.lmplot('lambda','cost',cv,fit_reg=False)"
   ]
  },
  {
   "cell_type": "markdown",
   "metadata": {},
   "source": [
    "The plot above is based on the validation data.  The $x$ axis is the $lambda$, i.e., how much we penalize our cost function, and the $y$ axis is the average sum of squared errors for each corresponding $\\lambda$.  Moving from left to right, we are increasing our penality.  It's interesting - the OLS solution corresponds to $\\lambda = 0$, but our regularized solution with $lambda \\approx 36$ performs best.  \n",
    "\n",
    "Our choices to this point have been independent of the test data, so let's test how well our regularized beta measures up against the OLS beta by calc the mean square error for the test data set with each parameter set."
   ]
  },
  {
   "cell_type": "code",
   "execution_count": 6,
   "metadata": {},
   "outputs": [
    {
     "name": "stdout",
     "output_type": "stream",
     "text": [
      "results on test data\n",
      "regularized b results in cost:  0.24451820275\n",
      "ols b results in cost: 0.3003864239495905\n"
     ]
    }
   ],
   "source": [
    "reg = best_lambda\n",
    "# calculate the betas on the training data\n",
    "b = np.linalg.inv( X_train.T*X_train + reg*I)*X_train.T*y_train\n",
    "b_ols = np.linalg.inv(X_train.T*X_train)*X_train.T*y_train\n",
    "\n",
    "# calc errors on the test data\n",
    "error = (y_test - X_test*b).T*(y_test - X_test*b) / X_test.shape[0]\n",
    "error_ols = (y_test - X_test*b_ols).T*(y_test - X_test*b_ols) / X_test.shape[0]\n",
    "print(\"results on test data\")\n",
    "print(\"regularized b results in cost: \",error[0,0])\n",
    "print(\"ols b results in cost: {}\".format(error_ols[0,0]))\n"
   ]
  },
  {
   "cell_type": "markdown",
   "metadata": {},
   "source": [
    "Our regularized solution outperforms the OLS solution.  Keep in mind that if you change the seed in the test_train_split, you will get a different story. "
   ]
  },
  {
   "cell_type": "code",
   "execution_count": null,
   "metadata": {
    "collapsed": true
   },
   "outputs": [],
   "source": []
  }
 ],
 "metadata": {
  "kernelspec": {
   "display_name": "Python [conda env:pgh_data_science]",
   "language": "python",
   "name": "conda-env-pgh_data_science-py"
  },
  "language_info": {
   "codemirror_mode": {
    "name": "ipython",
    "version": 3
   },
   "file_extension": ".py",
   "mimetype": "text/x-python",
   "name": "python",
   "nbconvert_exporter": "python",
   "pygments_lexer": "ipython3",
   "version": "3.5.4"
  }
 },
 "nbformat": 4,
 "nbformat_minor": 2
}
