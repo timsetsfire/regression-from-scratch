{
  "cells": [
    {
      "cell_type": "markdown",
      "metadata": {
        "id": "view-in-github",
        "colab_type": "text"
      },
      "source": [
        "<a href=\"https://colab.research.google.com/github/timsetsfire/regression-from-scratch/blob/master/Exercise%20Solution.ipynb\" target=\"_parent\"><img src=\"https://colab.research.google.com/assets/colab-badge.svg\" alt=\"Open In Colab\"/></a>"
      ]
    },
    {
      "cell_type": "markdown",
      "metadata": {
        "id": "_YuWq36boMxf"
      },
      "source": [
        "## Solution\n",
        "\n",
        "In this book we'll demonstrate a method to pick the \"best\" $\\lambda$ for $L_2$ regularization.  I say \"best\" because the choosen $\\lambda$ will be best with regard to the way we sample the data.  \n",
        "\n",
        "A general outline of the solution\n",
        "\n",
        "* Split our data up into train, validation and test datasets\n",
        "* Create a list of $\\lambda$'s to loop through\n",
        "* With each loop, we'll calc the regularized beta solution with the training data and calc the mean square error on our validation data.\n",
        "* The betas corresponding to the $\\lambda$ which gave the best sum of squared error will be tested on on the test data along side the OLS solution\n",
        "\n",
        "Recall our regularized betas can be calc'd as \n",
        "$$\\beta_\\lambda = (X^TX + \\lambda I)^{-1}X^Ty$$\n",
        "and that out OLS solution is\n",
        "$$\\beta_{OLS} = (X^TX)^{-1}X^Ty$$\n",
        "\n",
        "$I$ is an n by n identity matrix, where n is the number of features in $X$.\n",
        "\n",
        "If you don't standardize your data, you must add a bias.  Since we don't want to regularize the bias set $I_{1,1} = 0$ (this is the top left most entry - I'm not starting my indexing with 0's)\n",
        "\n",
        "The mean square error (MSE) will be our cost function\n",
        "\n",
        "$$ MSE = \\frac{1}{m}(y - X\\beta)^T(y-X\\beta)$$\n",
        "\n",
        "with $m$ equal to the number of observations"
      ]
    },
    {
      "cell_type": "code",
      "execution_count": 1,
      "metadata": {
        "collapsed": true,
        "id": "5kt8QQJVoMxh"
      },
      "outputs": [],
      "source": [
        "from sklearn.model_selection import train_test_split  # used to split up out data\n",
        "from sklearn.datasets import load_diabetes\n",
        "from sklearn.preprocessing import StandardScaler # used to standardize data\n",
        "import numpy as np \n",
        "import seaborn as sns # my favorite plotting tool\n",
        "from pandas import DataFrame "
      ]
    },
    {
      "cell_type": "code",
      "execution_count": 2,
      "metadata": {
        "collapsed": true,
        "id": "AdEImPYyoMxh"
      },
      "outputs": [],
      "source": [
        "lin_reg_data = load_diabetes(return_X_y = False)"
      ]
    },
    {
      "cell_type": "code",
      "execution_count": 3,
      "metadata": {
        "collapsed": true,
        "id": "_6tKuLOCoMxi"
      },
      "outputs": [],
      "source": [
        "X = lin_reg_data.data\n",
        "X = np.matrix(X)\n",
        "y = lin_reg_data.target\n",
        "y = np.matrix(y).T"
      ]
    },
    {
      "cell_type": "code",
      "execution_count": 100,
      "metadata": {
        "colab": {
          "base_uri": "https://localhost:8080/"
        },
        "id": "cXakMRHhoMxi",
        "outputId": "943563ae-c14e-4c6e-d625-85d56ca5d698"
      },
      "outputs": [
        {
          "output_type": "stream",
          "name": "stdout",
          "text": [
            "best error and lambda:  0.46817964308514426 69.87575351793703\n"
          ]
        },
        {
          "output_type": "stream",
          "name": "stderr",
          "text": [
            "/usr/local/lib/python3.7/dist-packages/sklearn/utils/validation.py:598: FutureWarning: np.matrix usage is deprecated in 1.0 and will raise a TypeError in 1.2. Please convert to a numpy array with np.asarray. For more information see: https://numpy.org/doc/stable/reference/generated/numpy.matrix.html\n",
            "  FutureWarning,\n",
            "/usr/local/lib/python3.7/dist-packages/sklearn/utils/validation.py:598: FutureWarning: np.matrix usage is deprecated in 1.0 and will raise a TypeError in 1.2. Please convert to a numpy array with np.asarray. For more information see: https://numpy.org/doc/stable/reference/generated/numpy.matrix.html\n",
            "  FutureWarning,\n",
            "/usr/local/lib/python3.7/dist-packages/sklearn/utils/validation.py:598: FutureWarning: np.matrix usage is deprecated in 1.0 and will raise a TypeError in 1.2. Please convert to a numpy array with np.asarray. For more information see: https://numpy.org/doc/stable/reference/generated/numpy.matrix.html\n",
            "  FutureWarning,\n",
            "/usr/local/lib/python3.7/dist-packages/sklearn/utils/validation.py:598: FutureWarning: np.matrix usage is deprecated in 1.0 and will raise a TypeError in 1.2. Please convert to a numpy array with np.asarray. For more information see: https://numpy.org/doc/stable/reference/generated/numpy.matrix.html\n",
            "  FutureWarning,\n",
            "/usr/local/lib/python3.7/dist-packages/sklearn/utils/validation.py:598: FutureWarning: np.matrix usage is deprecated in 1.0 and will raise a TypeError in 1.2. Please convert to a numpy array with np.asarray. For more information see: https://numpy.org/doc/stable/reference/generated/numpy.matrix.html\n",
            "  FutureWarning,\n",
            "/usr/local/lib/python3.7/dist-packages/sklearn/utils/validation.py:598: FutureWarning: np.matrix usage is deprecated in 1.0 and will raise a TypeError in 1.2. Please convert to a numpy array with np.asarray. For more information see: https://numpy.org/doc/stable/reference/generated/numpy.matrix.html\n",
            "  FutureWarning,\n",
            "/usr/local/lib/python3.7/dist-packages/sklearn/utils/validation.py:598: FutureWarning: np.matrix usage is deprecated in 1.0 and will raise a TypeError in 1.2. Please convert to a numpy array with np.asarray. For more information see: https://numpy.org/doc/stable/reference/generated/numpy.matrix.html\n",
            "  FutureWarning,\n",
            "/usr/local/lib/python3.7/dist-packages/sklearn/utils/validation.py:598: FutureWarning: np.matrix usage is deprecated in 1.0 and will raise a TypeError in 1.2. Please convert to a numpy array with np.asarray. For more information see: https://numpy.org/doc/stable/reference/generated/numpy.matrix.html\n",
            "  FutureWarning,\n"
          ]
        }
      ],
      "source": [
        "\n",
        "## split our data into three sets: training, validation and test\n",
        "X_train, X_test, y_train, y_test =  train_test_split(X,y,test_size=0.1, random_state = 42)\n",
        "X_train, X_val, y_train, y_val = train_test_split(X_train, y_train,test_size=0.3, random_state = 42)\n",
        "\n",
        "## create StandardScalers to standardize both X and y\n",
        "ss_x = StandardScaler()  \n",
        "ss_y = StandardScaler()\n",
        "\n",
        "## fit the standardizer on the training data. \n",
        "ss_x.fit(X_train)  \n",
        "ss_y.fit(y_train)\n",
        "\n",
        "## standardize all the data \n",
        "## and cast everything as a matrix \n",
        "X_train = np.matrix(ss_x.transform(X_train))\n",
        "X_val = np.matrix(ss_x.transform(X_val))\n",
        "X_test = np.matrix(ss_x.transform(X_test))\n",
        "\n",
        "y_train = np.matrix(ss_y.transform(y_train))\n",
        "y_val = np.matrix(ss_y.transform(y_val))\n",
        "y_test = np.matrix(ss_y.transform(y_test))\n",
        "\n",
        "## get the number of observations and features\n",
        "m,n = X_train.shape\n",
        "\n",
        "## create the identity matrix\n",
        "I = np.eye(n)\n",
        "\n",
        "# calc the largest lambda (just a rule of thumb calculation)\n",
        "reg = np.max( np.fabs( X_train.T*y_train)/m)/1e-3\n",
        "best_lambda = reg\n",
        "best_error = np.Infinity\n",
        "\n",
        "## create list of lambdas to loop through\n",
        "lambdas = np.exp(np.linspace(-10,np.log(reg),100))\n",
        "\n",
        "## initialize list to store the sum of squared errors for each loop\n",
        "sses = []\n",
        "for reg in lambdas:\n",
        "    b = np.linalg.inv( X_train.T*X_train + reg*I)*X_train.T*y_train\n",
        "    error = ((y_val - X_val*b).T * (y_val - X_val*b))/X_val.shape[0]\n",
        "    sses.append(error[0,0])\n",
        "    if error[0][0] < best_error:\n",
        "        best_error = error[0,0]\n",
        "        best_lambda = reg\n",
        "    #print(\"{: <8} \\t {}\".format(np.round(reg,6),error[0,0]))\n",
        "print(\"best error and lambda: \", best_error, best_lambda)"
      ]
    },
    {
      "cell_type": "code",
      "execution_count": 101,
      "metadata": {
        "colab": {
          "base_uri": "https://localhost:8080/",
          "height": 441
        },
        "id": "ZNSJ0hEmoMxj",
        "outputId": "6ea93690-fc1e-4721-f9f9-6e8fa83f78c7"
      },
      "outputs": [
        {
          "output_type": "stream",
          "name": "stderr",
          "text": [
            "/usr/local/lib/python3.7/dist-packages/seaborn/_decorators.py:43: FutureWarning: Pass the following variables as keyword args: x, y, data. From version 0.12, the only valid positional argument will be `data`, and passing other arguments without an explicit keyword will result in an error or misinterpretation.\n",
            "  FutureWarning\n"
          ]
        },
        {
          "output_type": "execute_result",
          "data": {
            "text/plain": [
              "<seaborn.axisgrid.FacetGrid at 0x7fc310b65750>"
            ]
          },
          "metadata": {},
          "execution_count": 101
        },
        {
          "output_type": "display_data",
          "data": {
            "text/plain": [
              "<Figure size 360x360 with 1 Axes>"
            ],
            "image/png": "[encoded data removed]"
          },
          "metadata": {
            "needs_background": "light"
          }
        }
      ],
      "source": [
        "cv = DataFrame([lambdas, sses]).T\n",
        "cv.columns = [\"lambda\", \"cost\"]\n",
        "sns.lmplot('lambda','cost',cv,fit_reg=False)"
      ]
    },
    {
      "cell_type": "markdown",
      "metadata": {
        "id": "Lpv2-7vOoMxk"
      },
      "source": [
        "The plot above is based on the validation data.  The $x$ axis is the $lambda$, i.e., how much we penalize our cost function, and the $y$ axis is the average sum of squared errors for each corresponding $\\lambda$.  Moving from left to right, we are increasing our penality.  It's interesting - the OLS solution corresponds to $\\lambda = 0$, but our regularized solution with $lambda \\approx 36$ performs best.  \n",
        "\n",
        "Our choices to this point have been independent of the test data, so let's test how well our regularized beta measures up against the OLS beta by calc the mean square error for the test data set with each parameter set."
      ]
    },
    {
      "cell_type": "code",
      "execution_count": 102,
      "metadata": {
        "colab": {
          "base_uri": "https://localhost:8080/"
        },
        "id": "4YUXQdjaoMxk",
        "outputId": "50ec2789-0163-4ee4-d6ca-a953f4344588"
      },
      "outputs": [
        {
          "output_type": "stream",
          "name": "stdout",
          "text": [
            "results on test data\n",
            "regularized b results in cost:  0.4524548975266446\n",
            "ols b results in cost: 0.44118039340128457\n"
          ]
        }
      ],
      "source": [
        "reg = best_lambda\n",
        "# calculate the betas on the training data\n",
        "b = np.linalg.inv( X_train.T*X_train + reg*I)*X_train.T*y_train\n",
        "b_ols = np.linalg.inv(X_train.T*X_train)*X_train.T*y_train\n",
        "\n",
        "# calc errors on the test data\n",
        "error = (y_test - X_test*b).T*(y_test - X_test*b) / X_test.shape[0]\n",
        "error_ols = (y_test - X_test*b_ols).T*(y_test - X_test*b_ols) / X_test.shape[0]\n",
        "print(\"results on test data\")\n",
        "print(\"regularized b results in cost: \",error[0,0])\n",
        "print(\"ols b results in cost: {}\".format(error_ols[0,0]))\n"
      ]
    },
    {
      "cell_type": "markdown",
      "metadata": {
        "id": "EbUzwjyOoMxl"
      },
      "source": [
        "Our regularized solution outperforms the OLS solution.  Keep in mind that if you change the seed in the test_train_split, you will get a different story. "
      ]
    },
    {
      "cell_type": "markdown",
      "source": [
        "## Exercise 2 \n",
        "\n",
        "Add regularization to Gradient Descent\n",
        "\n",
        "Note that when we add regularization to Gradient Descent -> the best lambda is going to be different from the one in the previous exercise.  "
      ],
      "metadata": {
        "id": "C1kTGUpHo4u6"
      }
    },
    {
      "cell_type": "code",
      "execution_count": 115,
      "metadata": {
        "collapsed": true,
        "id": "bSyylPxUoMxl"
      },
      "outputs": [],
      "source": [
        "## create the objective function \n",
        "\n",
        "class MSE(object):\n",
        "    def valueAt( x, y, beta):\n",
        "        yhat = x * beta\n",
        "        e = y - yhat\n",
        "        return e.T*e / x.shape[0]\n",
        "    def gradientAt(x, y, beta):\n",
        "        yhat = x * beta\n",
        "        e = y - yhat\n",
        "        return -x.T*e / x.shape[0]\n",
        "  \n",
        "class L2(object):\n",
        "    def valueAt(b):\n",
        "        return 1/2*linalg.norm(b) \n",
        "    def gradientAt(b):\n",
        "        return b\n",
        "    \n",
        "class GradientDescent(object):\n",
        "    def __init__(self, cost_function=MSE, tolerance=1e-6, penalty_function = L2, regularization=None):\n",
        "        self.cost_function = cost_function\n",
        "        self.penalty_function = penalty_function\n",
        "        self.tol = tolerance\n",
        "        self.iter = 0\n",
        "        self.beta = None\n",
        "        self.regularization = regularization\n",
        "        \n",
        "    def optimize(self, X,y,learning_rate=0.1,init_params=None):\n",
        "        if init_params is None:\n",
        "            beta = np.matrix( np.zeros(X.shape[1])).T\n",
        "        else:\n",
        "            beta = init_params\n",
        "        grad = self.cost_function.gradientAt(X,y,beta)\n",
        "        if self.regularization is not None:\n",
        "            ## new line\n",
        "            grad += self.regularization * self.penalty_function.gradientAt(beta)\n",
        "        prev_beta = beta\n",
        "        beta = beta - learning_rate*grad\n",
        "        ## several termination criteria to use\n",
        "        ## abs change in beta is small\n",
        "        ## abs change in beta / norm of beta \n",
        "        ## abs change in object is small\n",
        "        ## here we use magitute of the gradient\n",
        "        while np.linalg.norm(prev_beta - beta)/np.linalg.norm(beta) > self.tol:\n",
        "            prev_beta = beta\n",
        "            self.iter += 1\n",
        "            grad = self.cost_function.gradientAt(X,y,beta)\n",
        "            if self.regularization is not None:\n",
        "              ## new line\n",
        "              grad += + self.regularization * self.penalty_function.gradientAt(beta)\n",
        "            beta = beta - learning_rate*grad\n",
        "        self.beta = beta\n",
        "        return beta"
      ]
    },
    {
      "cell_type": "code",
      "source": [
        "linear_regression = GradientDescent(regularization = 0.1)\n",
        "parameters = [\"bias\"]\n",
        "parameters.extend( [\"x{}\".format(i) for i in range(X.shape[1]-1)])\n",
        "sbeta_gd = linear_regression.optimize(X_train,y_train,learning_rate=0.1)\n",
        "DataFrame( np.concatenate( (b_ols, sbeta_gd),axis=1),\n",
        "          index = parameters,\n",
        "          columns = [\"b_ols\", \"gd beta\"])"
      ],
      "metadata": {
        "colab": {
          "base_uri": "https://localhost:8080/",
          "height": 363
        },
        "id": "cBmd4xpKpQLj",
        "outputId": "a84c132f-4572-4328-8648-be9565314284"
      },
      "execution_count": 135,
      "outputs": [
        {
          "output_type": "execute_result",
          "data": {
            "text/plain": [
              "         b_ols   gd beta\n",
              "bias  0.005077  0.012528\n",
              "x0   -0.155420 -0.135430\n",
              "x1    0.342506  0.321547\n",
              "x2    0.184195  0.173203\n",
              "x3   -0.614662 -0.079114\n",
              "x4    0.351174 -0.060027\n",
              "x5    0.115964 -0.114155\n",
              "x6    0.169882  0.102929\n",
              "x7    0.502954  0.269117\n",
              "x8    0.023705  0.038443"
            ],
            "text/html": [
              "\n",
              "  <div id=\"df-cb6d0bcb-63a3-4b92-8535-5b5fe603cd48\">\n",
              "    <div class=\"colab-df-container\">\n",
              "      <div>\n",
              "<style scoped>\n",
              "    .dataframe tbody tr th:only-of-type {\n",
              "        vertical-align: middle;\n",
              "    }\n",
              "\n",
              "    .dataframe tbody tr th {\n",
              "        vertical-align: top;\n",
              "    }\n",
              "\n",
              "    .dataframe thead th {\n",
              "        text-align: right;\n",
              "    }\n",
              "</style>\n",
              "<table border=\"1\" class=\"dataframe\">\n",
              "  <thead>\n",
              "    <tr style=\"text-align: right;\">\n",
              "      <th></th>\n",
              "      <th>b_ols</th>\n",
              "      <th>gd beta</th>\n",
              "    </tr>\n",
              "  </thead>\n",
              "  <tbody>\n",
              "    <tr>\n",
              "      <th>bias</th>\n",
              "      <td>0.005077</td>\n",
              "      <td>0.012528</td>\n",
              "    </tr>\n",
              "    <tr>\n",
              "      <th>x0</th>\n",
              "      <td>-0.155420</td>\n",
              "      <td>-0.135430</td>\n",
              "    </tr>\n",
              "    <tr>\n",
              "      <th>x1</th>\n",
              "      <td>0.342506</td>\n",
              "      <td>0.321547</td>\n",
              "    </tr>\n",
              "    <tr>\n",
              "      <th>x2</th>\n",
              "      <td>0.184195</td>\n",
              "      <td>0.173203</td>\n",
              "    </tr>\n",
              "    <tr>\n",
              "      <th>x3</th>\n",
              "      <td>-0.614662</td>\n",
              "      <td>-0.079114</td>\n",
              "    </tr>\n",
              "    <tr>\n",
              "      <th>x4</th>\n",
              "      <td>0.351174</td>\n",
              "      <td>-0.060027</td>\n",
              "    </tr>\n",
              "    <tr>\n",
              "      <th>x5</th>\n",
              "      <td>0.115964</td>\n",
              "      <td>-0.114155</td>\n",
              "    </tr>\n",
              "    <tr>\n",
              "      <th>x6</th>\n",
              "      <td>0.169882</td>\n",
              "      <td>0.102929</td>\n",
              "    </tr>\n",
              "    <tr>\n",
              "      <th>x7</th>\n",
              "      <td>0.502954</td>\n",
              "      <td>0.269117</td>\n",
              "    </tr>\n",
              "    <tr>\n",
              "      <th>x8</th>\n",
              "      <td>0.023705</td>\n",
              "      <td>0.038443</td>\n",
              "    </tr>\n",
              "  </tbody>\n",
              "</table>\n",
              "</div>\n",
              "      <button class=\"colab-df-convert\" onclick=\"convertToInteractive('df-cb6d0bcb-63a3-4b92-8535-5b5fe603cd48')\"\n",
              "              title=\"Convert this dataframe to an interactive table.\"\n",
              "              style=\"display:none;\">\n",
              "        \n",
              "  <svg xmlns=\"http://www.w3.org/2000/svg\" height=\"24px\"viewBox=\"0 0 24 24\"\n",
              "       width=\"24px\">\n",
              "    <path d=\"M0 0h24v24H0V0z\" fill=\"none\"/>\n",
              "    <path d=\"M18.56 5.44l.94 2.06.94-2.06 2.06-.94-2.06-.94-.94-2.06-.94 2.06-2.06.94zm-11 1L8.5 8.5l.94-2.06 2.06-.94-2.06-.94L8.5 2.5l-.94 2.06-2.06.94zm10 10l.94 2.06.94-2.06 2.06-.94-2.06-.94-.94-2.06-.94 2.06-2.06.94z\"/><path d=\"M17.41 7.96l-1.37-1.37c-.4-.4-.92-.59-1.43-.59-.52 0-1.04.2-1.43.59L10.3 9.45l-7.72 7.72c-.78.78-.78 2.05 0 2.83L4 21.41c.39.39.9.59 1.41.59.51 0 1.02-.2 1.41-.59l7.78-7.78 2.81-2.81c.8-.78.8-2.07 0-2.86zM5.41 20L4 18.59l7.72-7.72 1.47 1.35L5.41 20z\"/>\n",
              "  </svg>\n",
              "      </button>\n",
              "      \n",
              "  <style>\n",
              "    .colab-df-container {\n",
              "      display:flex;\n",
              "      flex-wrap:wrap;\n",
              "      gap: 12px;\n",
              "    }\n",
              "\n",
              "    .colab-df-convert {\n",
              "      background-color: #E8F0FE;\n",
              "      border: none;\n",
              "      border-radius: 50%;\n",
              "      cursor: pointer;\n",
              "      display: none;\n",
              "      fill: #1967D2;\n",
              "      height: 32px;\n",
              "      padding: 0 0 0 0;\n",
              "      width: 32px;\n",
              "    }\n",
              "\n",
              "    .colab-df-convert:hover {\n",
              "      background-color: #E2EBFA;\n",
              "      box-shadow: 0px 1px 2px rgba(60, 64, 67, 0.3), 0px 1px 3px 1px rgba(60, 64, 67, 0.15);\n",
              "      fill: #174EA6;\n",
              "    }\n",
              "\n",
              "    [theme=dark] .colab-df-convert {\n",
              "      background-color: #3B4455;\n",
              "      fill: #D2E3FC;\n",
              "    }\n",
              "\n",
              "    [theme=dark] .colab-df-convert:hover {\n",
              "      background-color: #434B5C;\n",
              "      box-shadow: 0px 1px 3px 1px rgba(0, 0, 0, 0.15);\n",
              "      filter: drop-shadow(0px 1px 2px rgba(0, 0, 0, 0.3));\n",
              "      fill: #FFFFFF;\n",
              "    }\n",
              "  </style>\n",
              "\n",
              "      <script>\n",
              "        const buttonEl =\n",
              "          document.querySelector('#df-cb6d0bcb-63a3-4b92-8535-5b5fe603cd48 button.colab-df-convert');\n",
              "        buttonEl.style.display =\n",
              "          google.colab.kernel.accessAllowed ? 'block' : 'none';\n",
              "\n",
              "        async function convertToInteractive(key) {\n",
              "          const element = document.querySelector('#df-cb6d0bcb-63a3-4b92-8535-5b5fe603cd48');\n",
              "          const dataTable =\n",
              "            await google.colab.kernel.invokeFunction('convertToInteractive',\n",
              "                                                     [key], {});\n",
              "          if (!dataTable) return;\n",
              "\n",
              "          const docLinkHtml = 'Like what you see? Visit the ' +\n",
              "            '<a target=\"_blank\" href=https://colab.research.google.com/notebooks/data_table.ipynb>data table notebook</a>'\n",
              "            + ' to learn more about interactive tables.';\n",
              "          element.innerHTML = '';\n",
              "          dataTable['output_type'] = 'display_data';\n",
              "          await google.colab.output.renderOutput(dataTable, element);\n",
              "          const docLink = document.createElement('div');\n",
              "          docLink.innerHTML = docLinkHtml;\n",
              "          element.appendChild(docLink);\n",
              "        }\n",
              "      </script>\n",
              "    </div>\n",
              "  </div>\n",
              "  "
            ]
          },
          "metadata": {},
          "execution_count": 135
        }
      ]
    },
    {
      "cell_type": "code",
      "source": [
        "MSE.valueAt(X_val, y_val, sbeta_gd)"
      ],
      "metadata": {
        "colab": {
          "base_uri": "https://localhost:8080/"
        },
        "id": "6hN_vRK2q_UZ",
        "outputId": "20eaf08a-9ae9-4a7f-ac1d-260353f3e029"
      },
      "execution_count": 136,
      "outputs": [
        {
          "output_type": "execute_result",
          "data": {
            "text/plain": [
              "matrix([[0.47136222]])"
            ]
          },
          "metadata": {},
          "execution_count": 136
        }
      ]
    },
    {
      "cell_type": "code",
      "source": [
        "MSE.valueAt(X_val, y_val, b_ols)"
      ],
      "metadata": {
        "colab": {
          "base_uri": "https://localhost:8080/"
        },
        "id": "K1lg_0hcveOi",
        "outputId": "e1f2bdb8-57c5-4208-e269-0f5fe4f89e46"
      },
      "execution_count": 137,
      "outputs": [
        {
          "output_type": "execute_result",
          "data": {
            "text/plain": [
              "matrix([[0.4811709]])"
            ]
          },
          "metadata": {},
          "execution_count": 137
        }
      ]
    },
    {
      "cell_type": "code",
      "source": [
        ""
      ],
      "metadata": {
        "id": "dt9l93FRzG0S"
      },
      "execution_count": null,
      "outputs": []
    }
  ],
  "metadata": {
    "kernelspec": {
      "display_name": "Python [conda env:pgh_data_science]",
      "language": "python",
      "name": "conda-env-pgh_data_science-py"
    },
    "language_info": {
      "codemirror_mode": {
        "name": "ipython",
        "version": 3
      },
      "file_extension": ".py",
      "mimetype": "text/x-python",
      "name": "python",
      "nbconvert_exporter": "python",
      "pygments_lexer": "ipython3",
      "version": "3.5.4"
    },
    "colab": {
      "name": "Exercise 2 Solution.ipynb",
      "provenance": [],
      "include_colab_link": true
    }
  },
  "nbformat": 4,
  "nbformat_minor": 0
}